{
 "cells": [
  {
   "cell_type": "markdown",
   "metadata": {},
   "source": [
    "# Intro to Neural Networks through SKFlow\n",
    "\n",
    "<img src=\"https://pbs.twimg.com/media/CbccPCBWAAErTII.jpg\"/>\n",
    "\n",
    "By now, you've installed tensorflow as well as the sklearn-centric wrapper, SKFlow.\n",
    "\n",
    "- To install tensorflow:\n",
    "\n",
    "`conda install -c https://conda.anaconda.org/jjhelmus tensorflow=0.6.0`\n",
    "\n",
    "- To install skflow afterwards:\n",
    "\n",
    "`pip install skflow`\n",
    "\n",
    "- Check that both components have correctly been installed in your ipython notebook:\n",
    "\n",
    "`import skflow`\n",
    "\n",
    "`import tensorflow as tf`\n",
    "\n",
    "To adequately use TensorFlow would require a number of class sessions, but let's explore some of the basics through SKFlow."
   ]
  },
  {
   "cell_type": "code",
   "execution_count": 1,
   "metadata": {
    "collapsed": true
   },
   "outputs": [],
   "source": [
    "from sklearn import datasets\n",
    "from sklearn import metrics\n",
    "from sklearn import cross_validation\n",
    "import matplotlib.pyplot as plt\n",
    "%matplotlib inline\n",
    "\n",
    "import skflow\n",
    "import tensorflow as tf"
   ]
  },
  {
   "cell_type": "markdown",
   "metadata": {},
   "source": [
    "## Digit Recognition\n",
    "\n",
    "We're going to use the digits dataset again. In reality, this is a subset of the classic MNIST database of handwritten digits. Overall, MNIST has 60,000 training examples, and a test set of 10,000 examples. \n",
    "\n",
    "Example algorithm performances (test error rate %):\n",
    "- K Nearest Neighbors: 3%\n",
    "- SVM with RBF kernel: 1.4%\n",
    "- Boosted Stumps (depth=1 decision trees): 7.7%\n",
    "- Boosted Trees: 1.53%\n",
    "\n",
    "- 2 Layer NN: 4.7%\n",
    "- Modified Convolutional Nets: < 1%"
   ]
  },
  {
   "cell_type": "code",
   "execution_count": 2,
   "metadata": {
    "collapsed": true
   },
   "outputs": [],
   "source": [
    "digits = datasets.load_digits()"
   ]
  },
  {
   "cell_type": "code",
   "execution_count": 3,
   "metadata": {
    "collapsed": false
   },
   "outputs": [
    {
     "data": {
      "image/png": "[encoded data removed]",
      "text/plain": [
       "<matplotlib.figure.Figure at 0x11229a790>"
      ]
     },
     "metadata": {},
     "output_type": "display_data"
    }
   ],
   "source": [
    "images_and_labels = zip( digits.images, digits.target )\n",
    "plt.figure(figsize=(20,4))\n",
    "for idx,(img,label) in enumerate(images_and_labels[:10]):\n",
    "    plt.subplot(2,5,idx+1)\n",
    "    plt.axis('off')\n",
    "    plt.imshow(img,cmap=plt.cm.gray_r,interpolation='nearest')\n",
    "    plt.title(\"Training: %i\\n\" % label)\n",
    "plt.tight_layout()"
   ]
  },
  {
   "cell_type": "markdown",
   "metadata": {},
   "source": [
    "To do classification using one of our familiar algorithms, we might run the following code (as well as splitting the data into training and test sets)"
   ]
  },
  {
   "cell_type": "code",
   "execution_count": 4,
   "metadata": {
    "collapsed": false
   },
   "outputs": [],
   "source": [
    "# Load dataset, split into train and test set\n",
    "# Using half the data for test to make it harder\n",
    "\n",
    "X_train, X_test, y_train, y_test = cross_validation.train_test_split(digits.data,digits.target,test_size=0.5)"
   ]
  },
  {
   "cell_type": "code",
   "execution_count": 5,
   "metadata": {
    "collapsed": true
   },
   "outputs": [],
   "source": [
    "# Going to scale all my data first\n",
    "from sklearn import preprocessing\n",
    "\n",
    "scaler = preprocessing.StandardScaler(with_mean=True,with_std=True)\n",
    "scaler.fit(X_train)\n",
    "\n",
    "X_train = scaler.transform(X_train)\n",
    "\n",
    "X_test  = scaler.transform(X_test)"
   ]
  },
  {
   "cell_type": "code",
   "execution_count": null,
   "metadata": {
    "collapsed": true
   },
   "outputs": [],
   "source": []
  },
  {
   "cell_type": "code",
   "execution_count": 6,
   "metadata": {
    "collapsed": false
   },
   "outputs": [
    {
     "data": {
      "text/plain": [
       "KNeighborsClassifier(algorithm='auto', leaf_size=30, metric='minkowski',\n",
       "           metric_params=None, n_neighbors=3, p=2, weights='uniform')"
      ]
     },
     "execution_count": 6,
     "metadata": {},
     "output_type": "execute_result"
    }
   ],
   "source": [
    "from sklearn import neighbors\n",
    "\n",
    "model_knn = neighbors.KNeighborsClassifier(n_neighbors=3)\n",
    "model_knn.fit(X_train,y_train)"
   ]
  },
  {
   "cell_type": "code",
   "execution_count": 7,
   "metadata": {
    "collapsed": false
   },
   "outputs": [
    {
     "name": "stdout",
     "output_type": "stream",
     "text": [
      "Accuracy: 0.961068\n"
     ]
    }
   ],
   "source": [
    "score = metrics.accuracy_score(y_test, model_knn.predict(X_test))\n",
    "print('Accuracy: {0:f}'.format(score))"
   ]
  },
  {
   "cell_type": "markdown",
   "metadata": {},
   "source": [
    "### TensorFlowClassifier\n",
    "Now, let's ease into SKFlow/Tensorflow by using a regular linear classifier\n",
    "\n",
    "(Network diagram on the board)\n"
   ]
  },
  {
   "cell_type": "code",
   "execution_count": 8,
   "metadata": {
    "collapsed": false,
    "scrolled": true
   },
   "outputs": [
    {
     "name": "stdout",
     "output_type": "stream",
     "text": [
      "Step #1, avg. loss: 2.61099\n",
      "Step #1001, epoch #34, avg. loss: 0.18512\n",
      "Step #2001, epoch #69, avg. loss: 0.05825\n",
      "Step #3001, epoch #103, avg. loss: 0.03986\n",
      "Step #4001, epoch #137, avg. loss: 0.02909\n",
      "Step #5001, epoch #172, avg. loss: 0.02446\n",
      "Step #6001, epoch #206, avg. loss: 0.02029\n",
      "Step #7001, epoch #241, avg. loss: 0.01742\n",
      "Step #8001, epoch #275, avg. loss: 0.01524\n",
      "Step #9001, epoch #310, avg. loss: 0.01381\n"
     ]
    },
    {
     "data": {
      "text/plain": [
       "TensorFlowLinearClassifier(batch_size=32, class_weight=None,\n",
       "              continue_training=False, early_stopping_rounds=None,\n",
       "              keep_checkpoint_every_n_hours=10000, learning_rate=0.1,\n",
       "              max_to_keep=5, n_classes=10, num_cores=4, optimizer='SGD',\n",
       "              steps=10000, tf_master='', tf_random_seed=42, verbose=1)"
      ]
     },
     "execution_count": 8,
     "metadata": {},
     "output_type": "execute_result"
    }
   ],
   "source": [
    "model_tfl = skflow.TensorFlowClassifier(n_classes=10,steps=10000)\n",
    "model_tfl.fit(X_train,y_train) "
   ]
  },
  {
   "cell_type": "code",
   "execution_count": 9,
   "metadata": {
    "collapsed": false
   },
   "outputs": [
    {
     "name": "stdout",
     "output_type": "stream",
     "text": [
      "Accuracy: 0.963293\n"
     ]
    }
   ],
   "source": [
    "score = metrics.accuracy_score(y_test, model_tfl.predict(X_test))\n",
    "print('Accuracy: {0:f}'.format(score))"
   ]
  },
  {
   "cell_type": "markdown",
   "metadata": {},
   "source": [
    "### TensorFlowDNNClassifier\n",
    "Great, let's see what the same code looks like using a Deep Neural Network  with 2 hidden layers\n",
    "\n",
    "(Network diagram on the board)"
   ]
  },
  {
   "cell_type": "code",
   "execution_count": 10,
   "metadata": {
    "collapsed": false
   },
   "outputs": [
    {
     "name": "stdout",
     "output_type": "stream",
     "text": [
      "Step #1, avg. loss: 2.91747\n",
      "Step #1001, epoch #34, avg. loss: 0.17692\n",
      "Step #2001, epoch #69, avg. loss: 0.00554\n",
      "Step #3001, epoch #103, avg. loss: 0.00220\n",
      "Step #4001, epoch #137, avg. loss: 0.00128\n",
      "Step #5001, epoch #172, avg. loss: 0.00091\n",
      "Step #6001, epoch #206, avg. loss: 0.00067\n",
      "Step #7001, epoch #241, avg. loss: 0.00054\n",
      "Step #8001, epoch #275, avg. loss: 0.00044\n",
      "Step #9001, epoch #310, avg. loss: 0.00038\n"
     ]
    },
    {
     "data": {
      "text/plain": [
       "TensorFlowDNNClassifier(batch_size=32, class_weight=None,\n",
       "            continue_training=False, early_stopping_rounds=None,\n",
       "            hidden_units=[20, 15], keep_checkpoint_every_n_hours=10000,\n",
       "            learning_rate=0.1, max_to_keep=5, n_classes=10, num_cores=4,\n",
       "            optimizer='SGD', steps=10000, tf_master='', tf_random_seed=42,\n",
       "            verbose=1)"
      ]
     },
     "execution_count": 10,
     "metadata": {},
     "output_type": "execute_result"
    }
   ],
   "source": [
    "model_dnn = skflow.TensorFlowDNNClassifier(hidden_units=[20,15],\n",
    "                                           n_classes=10,\n",
    "                                           steps=10000)\n",
    "model_dnn.fit(X_train,y_train)"
   ]
  },
  {
   "cell_type": "code",
   "execution_count": 13,
   "metadata": {
    "collapsed": false
   },
   "outputs": [
    {
     "name": "stdout",
     "output_type": "stream",
     "text": [
      "Accuracy: 1.000000\n"
     ]
    }
   ],
   "source": [
    "score = metrics.accuracy_score(y_train, model_dnn.predict(X_train))\n",
    "print('Accuracy: {0:f}'.format(score))"
   ]
  },
  {
   "cell_type": "code",
   "execution_count": 11,
   "metadata": {
    "collapsed": false
   },
   "outputs": [
    {
     "name": "stdout",
     "output_type": "stream",
     "text": [
      "Accuracy: 0.944383\n"
     ]
    }
   ],
   "source": [
    "score = metrics.accuracy_score(y_test, model_dnn.predict(X_test))\n",
    "print('Accuracy: {0:f}'.format(score))"
   ]
  },
  {
   "cell_type": "code",
   "execution_count": 14,
   "metadata": {
    "collapsed": false
   },
   "outputs": [
    {
     "name": "stdout",
     "output_type": "stream",
     "text": [
      "Step #1, avg. loss: 2.91747\n",
      "Step #1001, epoch #34, avg. loss: 0.17692\n",
      "Step #2001, epoch #69, avg. loss: 0.00554\n",
      "Step #3001, epoch #103, avg. loss: 0.00220\n",
      "Step #4001, epoch #137, avg. loss: 0.00128\n",
      "Step #5001, epoch #172, avg. loss: 0.00091\n",
      "Step #6001, epoch #206, avg. loss: 0.00067\n",
      "Step #7001, epoch #241, avg. loss: 0.00054\n",
      "Step #8001, epoch #275, avg. loss: 0.00044\n",
      "Step #9001, epoch #310, avg. loss: 0.00038\n"
     ]
    },
    {
     "data": {
      "text/plain": [
       "TensorFlowDNNClassifier(batch_size=32, class_weight=None,\n",
       "            continue_training=False, early_stopping_rounds=None,\n",
       "            hidden_units=[20, 15], keep_checkpoint_every_n_hours=10000,\n",
       "            learning_rate=0.1, max_to_keep=5, n_classes=10, num_cores=4,\n",
       "            optimizer='SGD', steps=10000, tf_master='', tf_random_seed=42,\n",
       "            verbose=1)"
      ]
     },
     "execution_count": 14,
     "metadata": {},
     "output_type": "execute_result"
    }
   ],
   "source": [
    "# In TensorFlow, when we run and save the fitting to a directory\n",
    "# We can call in a terminal\n",
    "#   tensorboard --logdir=<THE_DIRECTORY>\n",
    "\n",
    "model_dnn.fit(X_train,y_train,logdir=\"/tmp/blah\")"
   ]
  },
  {
   "cell_type": "markdown",
   "metadata": {},
   "source": [
    "Let's see a few of the examples where we were wrong with the predictions."
   ]
  },
  {
   "cell_type": "code",
   "execution_count": 15,
   "metadata": {
    "collapsed": false
   },
   "outputs": [
    {
     "data": {
      "image/png": "[encoded data removed]",
      "text/plain": [
       "<matplotlib.figure.Figure at 0x114b38510>"
      ]
     },
     "metadata": {},
     "output_type": "display_data"
    }
   ],
   "source": [
    "import numpy as np\n",
    "plt.figure(figsize=(20,4))\n",
    "cnt = 1\n",
    "for img_idx in np.nditer( np.where( y_test != model_dnn.predict(X_test))[0][:10]):\n",
    "    plt.subplot(1,10,cnt)\n",
    "    plt.imshow(X_test[img_idx,:].reshape((8,8)),cmap=plt.cm.gray_r,interpolation='nearest')\n",
    "    plt.axis('off')\n",
    "    plt.title(\"Test: %i Pred: %i\" % (label,y_test[img_idx]))\n",
    "    cnt = cnt + 1\n",
    "plt.tight_layout()"
   ]
  },
  {
   "cell_type": "markdown",
   "metadata": {},
   "source": [
    "The true power comes in with custom models. TensorFlowEstimator allows you to specify your own conditions:\n",
    "* activation function (sigmoid,tanh - hyperbolic tangent, relu - rectified linear unit, etc.)\n",
    "* dropout (i.e. randomly drop out weights, should reduce overfitting)\n",
    "* modified hidden layers\n",
    "\n",
    "Example:\n",
    "https://medium.com/@ilblackdragon/tensorflow-tutorial-part-2-9ffe47049c92#.l3ig75mjv"
   ]
  },
  {
   "cell_type": "code",
   "execution_count": null,
   "metadata": {
    "collapsed": true
   },
   "outputs": [],
   "source": []
  },
  {
   "cell_type": "code",
   "execution_count": 16,
   "metadata": {
    "collapsed": false
   },
   "outputs": [
    {
     "name": "stdout",
     "output_type": "stream",
     "text": [
      "Step #1, avg. loss: 3.28346\n",
      "Step #401, epoch #13, avg. loss: 0.31768\n",
      "Step #801, epoch #27, avg. loss: 0.04370\n",
      "Step #1201, epoch #41, avg. loss: 0.02460\n",
      "Step #1601, epoch #55, avg. loss: 0.01851\n",
      "Step #2001, epoch #69, avg. loss: 0.01458\n",
      "Step #2401, epoch #82, avg. loss: 0.01170\n",
      "Step #2801, epoch #96, avg. loss: 0.00907\n",
      "Step #3201, epoch #110, avg. loss: 0.01123\n",
      "Step #3601, epoch #124, avg. loss: 0.00810\n",
      "Accuracy: 0.958843\n"
     ]
    }
   ],
   "source": [
    "def my_model(X, y):\n",
    "    \"\"\"This is DNN with 20, 15 hidden layers, and dropout of 0.1 probability.\"\"\"\n",
    "    layers = skflow.ops.dnn(X, [20, 15],tf.tanh, keep_prob=0.9)\n",
    "    return skflow.models.logistic_regression(layers, y)\n",
    "\n",
    "model_cdnn = skflow.TensorFlowEstimator(model_fn=my_model, n_classes=10,steps=4000,learning_rate=0.3)\n",
    "model_cdnn.fit(X_train,y_train)\n",
    "score = metrics.accuracy_score(y_test, model_cdnn.predict(X_test))\n",
    "print(\"Accuracy: %f\" % score)"
   ]
  },
  {
   "cell_type": "markdown",
   "metadata": {},
   "source": [
    "Another example with a convolutional layer and a max pooling layer"
   ]
  },
  {
   "cell_type": "code",
   "execution_count": 17,
   "metadata": {
    "collapsed": false
   },
   "outputs": [
    {
     "name": "stdout",
     "output_type": "stream",
     "text": [
      "Step #1, avg. loss: 3.56901\n",
      "Step #101, epoch #12, avg. loss: 2.38305\n",
      "Step #201, epoch #25, avg. loss: 1.82939\n",
      "Step #301, epoch #37, avg. loss: 1.59679\n",
      "Step #401, epoch #50, avg. loss: 1.31189\n",
      "Step #501, epoch #62, avg. loss: 1.27337\n",
      "Step #601, epoch #75, avg. loss: 1.23362\n",
      "Step #701, epoch #87, avg. loss: 1.05782\n",
      "Step #801, epoch #100, avg. loss: 1.03296\n",
      "Step #901, epoch #112, avg. loss: 0.86913\n",
      "Accuracy: 0.371524\n"
     ]
    }
   ],
   "source": [
    "def conv_model(X, y):\n",
    "    X = tf.expand_dims(X, 3)\n",
    "    features = tf.reduce_max(skflow.ops.conv2d(X, 12, [3, 3]), [1, 2])\n",
    "    features = tf.reshape(features, [-1, 12])\n",
    "    return skflow.models.logistic_regression(features, y)\n",
    "\n",
    "# Create a classifier, train and predict.\n",
    "classifier = skflow.TensorFlowEstimator(model_fn=conv_model, n_classes=10,\n",
    "                                        steps=1000, learning_rate=0.2,\n",
    "                                        batch_size=128)\n",
    "\n",
    "classifier.fit(X_train.reshape((898,8,8)), y_train)\n",
    "score = metrics.accuracy_score(classifier.predict(X_test.reshape((899,8,8))), y_test)\n",
    "print('Accuracy: %f' % score)"
   ]
  },
  {
   "cell_type": "markdown",
   "metadata": {},
   "source": [
    "Eventually, you will most likely want to just learn TensorFlow by itself, and then tie it into SKFlow as needed for fit/predict operations.\n",
    "\n",
    "\n",
    "For some practice on Skflow, try the following modifications and exercises:\n",
    "- (\\*) **Easy**\n",
    "- (\\*\\*) **Harder**\n",
    "- (\\*\\*\\*) **Hardest**\n",
    "\n",
    "------\n",
    "\n",
    "* (\\*) Try modifying the number of steps as well as the learning rate. How does this affect your results insample and out of sample? Try looking at the TensorBoard results as well. [TensorBoard](https://www.tensorflow.org/versions/r0.7/how_tos/summaries_and_tensorboard/index.html)\n",
    "* (\\*) Try modifying the number of hidden layers as well as the size of the hidden layers. [This link on hidden layers](http://stats.stackexchange.com/questions/181/how-to-choose-the-number-of-hidden-layers-and-nodes-in-a-feedforward-neural-netw) may help you get a good feel.\n",
    "* (\\*) Rerun your own version of the TensorFlowClassifier on a different dataset. Compare against techniques such as KNN, SVM, or Logistic Regression.\n",
    "* (\\*\\*) Try using a tf.relu activation function instead of sigmoid [List of various Activation Functions](https://www.tensorflow.org/versions/r0.7/api_docs/python/nn.html#activation-functions)\n",
    "* (\\*\\*\\*) Create a true TensorFlow model on the MNIST dataset [TensorFlow Example](https://www.tensorflow.org/versions/0.6.0/tutorials/mnist/beginners/index.html#mnist-for-ml-beginners)\n",
    "* (\\*\\*\\*\\*\\*\\*) Install and run through the [Theano tutorials](https://www.tensorflow.org/versions/0.6.0/tutorials/mnist/beginners/index.html#mnist-for-ml-beginners)\n",
    "\n",
    "\n",
    "\n",
    "\n",
    "* SKFlow tutorials: https://github.com/tensorflow/skflow\n",
    "* More SKFLow examples: https://medium.com/@ilblackdragon/tensorflow-tutorial-part-2-9ffe47049c92#.h7fhs7nup\n",
    "* Convolutional Neural Network guide: http://cs231n.github.io\n",
    "* Understanding CNN: http://timdettmers.com/2015/03/26/convolution-deep-learning/\n",
    "\n",
    "\n"
   ]
  },
  {
   "cell_type": "code",
   "execution_count": null,
   "metadata": {
    "collapsed": true
   },
   "outputs": [],
   "source": []
  }
 ],
 "metadata": {
  "kernelspec": {
   "display_name": "Python 2",
   "language": "python",
   "name": "python2"
  },
  "language_info": {
   "codemirror_mode": {
    "name": "ipython",
    "version": 2
   },
   "file_extension": ".py",
   "mimetype": "text/x-python",
   "name": "python",
   "nbconvert_exporter": "python",
   "pygments_lexer": "ipython2",
   "version": "2.7.11"
  }
 },
 "nbformat": 4,
 "nbformat_minor": 0
}
