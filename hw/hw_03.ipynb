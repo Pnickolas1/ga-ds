{
 "cells": [
  {
   "cell_type": "markdown",
   "metadata": {},
   "source": [
    "# HW 03\n",
    "\n",
    "# Linear Regression Part 1\n",
    "\n",
    "In this homework, we will explore the effect of multiple factors on housing prices for a dataset from Boston. The dataset is a part of sklearn--run the first two code blocks to load the packages, data, and print some information on the dataset.\n",
    "\n",
    "In effect, we wish to predict `prices ~ x + y + z + etc.`, where you will select the features x, y, z, etc. as a result of the dataset variables."
   ]
  },
  {
   "cell_type": "code",
   "execution_count": null,
   "metadata": {
    "collapsed": true
   },
   "outputs": [],
   "source": [
    "import pandas as pd\n",
    "import numpy as np\n",
    "import matplotlib.pyplot as plt\n",
    "from sklearn import datasets\n",
    "from patsy import dmatrices\n",
    "%matplotlib inline"
   ]
  },
  {
   "cell_type": "code",
   "execution_count": null,
   "metadata": {
    "collapsed": false
   },
   "outputs": [],
   "source": [
    "boston = datasets.load_boston()\n",
    "print boston.DESCR\n",
    "X, y = boston.data, boston.target\n",
    "features = boston.feature_names"
   ]
  },
  {
   "cell_type": "markdown",
   "metadata": {},
   "source": [
    "Create a histogram of all the housing prices in the dataset."
   ]
  },
  {
   "cell_type": "code",
   "execution_count": null,
   "metadata": {
    "collapsed": true
   },
   "outputs": [],
   "source": []
  },
  {
   "cell_type": "markdown",
   "metadata": {},
   "source": [
    "Create histograms for each of the features and label them.\n",
    "\n",
    "Use `plt.subplot(4,4,i)` to plot multiple plots side by side."
   ]
  },
  {
   "cell_type": "code",
   "execution_count": null,
   "metadata": {
    "collapsed": false
   },
   "outputs": [],
   "source": []
  },
  {
   "cell_type": "markdown",
   "metadata": {},
   "source": [
    "Create scatterplots for each of the features vs prices and label them.\n",
    "\n",
    "Use `plt.subplot(4,4,i)` to plot multiple plots side by side."
   ]
  },
  {
   "cell_type": "code",
   "execution_count": null,
   "metadata": {
    "collapsed": false
   },
   "outputs": [],
   "source": []
  },
  {
   "cell_type": "markdown",
   "metadata": {},
   "source": [
    "Create a linear model based on these histograms (choose which factors, and/or transformations of these factors might have significance in predicting prices). Some more meaningful factors might include `RM`, `LSTAT`, and `CRIM`. Play around with the factors to see which model has the highest $R^2$.\n",
    "\n",
    "One way to choose factors is to determine if there is a linear trend in x along with a linear trend in y. If not, for instance, in the case of categorical variables, is there a relative difference in price when the variable is true and when it is false (Check the scatters). \n",
    "\n",
    "When measuring $R^2$, this time use the full sklearn.cross_validation cross_val_score function with cv=10 to get an average across all of the 10 cross validation sets.\n",
    "\n",
    "One helpful transformation may be to look at the log of `CRIME` rather than `CRIME` itself. Why? Look at the scatter for CRIME vs price. Then create a scatter of np.log(CRIME) vs price. Which one looks like a lot more of a linear relationship? Before you can use the log of CRIME, you'll have to decide what to do when CRIME == 0. I leave that up to you, but one way to handle this is to set any value with 0 to the minimum or lowest number.\n",
    "\n",
    "**What is the final model form? What are some of the factors you have used? What was your average $R^2$ for this set of factors? Is there an intuition for the coefficients? (i.e. more rooms would naturally lead to a higher price. etc.)**"
   ]
  },
  {
   "cell_type": "markdown",
   "metadata": {},
   "source": []
  },
  {
   "cell_type": "code",
   "execution_count": null,
   "metadata": {
    "collapsed": true
   },
   "outputs": [],
   "source": []
  },
  {
   "cell_type": "code",
   "execution_count": null,
   "metadata": {
    "collapsed": true
   },
   "outputs": [],
   "source": []
  },
  {
   "cell_type": "code",
   "execution_count": null,
   "metadata": {
    "collapsed": true
   },
   "outputs": [],
   "source": []
  },
  {
   "cell_type": "markdown",
   "metadata": {},
   "source": [
    "----------\n",
    "Submit this notebook as YourName-HW3.ipynb to gadschicago@gmail.com. Use the subject [YOURNAME - HW 3].\n",
    "\n",
    "You might have a few of the following questions:\n",
    "* What happens when we pick too many factors? \n",
    "* What happens if these features are similar? \n",
    "* \"I've picked a few factors. How do I know these are actually useful on an individual basis other than $R^2$?\n",
    "* What tools are available to help me diagnose issues in my design matrix?\n",
    "\n",
    "We will explore these questions and more once we resume with **Regularization**."
   ]
  }
 ],
 "metadata": {
  "kernelspec": {
   "display_name": "Python 2",
   "language": "python",
   "name": "python2"
  },
  "language_info": {
   "codemirror_mode": {
    "name": "ipython",
    "version": 2
   },
   "file_extension": ".py",
   "mimetype": "text/x-python",
   "name": "python",
   "nbconvert_exporter": "python",
   "pygments_lexer": "ipython2",
   "version": "2.7.10"
  }
 },
 "nbformat": 4,
 "nbformat_minor": 0
}
