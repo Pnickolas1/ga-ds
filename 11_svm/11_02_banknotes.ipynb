{
 "cells": [
  {
   "cell_type": "markdown",
   "metadata": {},
   "source": [
    "# Detecting Fraudulent Bank Notes\n",
    "\n",
    "<img src=\"http://i.dailymail.co.uk/i/pix/2011/01/17/article-1347979-0CCE3852000005DC-804_468x247.jpg\"/>\n",
    "\n",
    "We've all been hired by a bank to use machine learning and data science to determine if the bank notes they receive are real or not.\n",
    "\n",
    "They've gone ahead and done a lot of the work for us, converting a training sample of bank notes into wavelet transformed samples. Each row in our data will have the following data:\n",
    "\n",
    "1. variance of Wavelet Transformed image (continuous) \n",
    "2. skewness of Wavelet Transformed image (continuous) \n",
    "3. curtosis of Wavelet Transformed image (continuous) \n",
    "4. entropy of image (continuous) \n",
    "5. class (integer) \n",
    "\n",
    "It's up to us to use SVMs to try to predict genuine/not genuine.\n",
    "\n",
    "[UCI Dataset](https://archive.ics.uci.edu/ml/datasets/banknote+authentication#)"
   ]
  },
  {
   "cell_type": "code",
   "execution_count": 1,
   "metadata": {
    "collapsed": false
   },
   "outputs": [],
   "source": [
    "import numpy as np\n",
    "import pandas as pd\n",
    "import matplotlib.pyplot as plt\n",
    "import seaborn as sb\n",
    "\n",
    "%matplotlib inline"
   ]
  },
  {
   "cell_type": "code",
   "execution_count": null,
   "metadata": {
    "collapsed": false
   },
   "outputs": [],
   "source": [
    "data = pd.read_csv(\"https://archive.ics.uci.edu/ml/machine-learning-databases/00267/data_banknote_authentication.txt\",\n",
    "                   names=[\"Var\",\"Skew\",\"Kurt\",\"Entropy\",\"Genuine\"])"
   ]
  },
  {
   "cell_type": "code",
   "execution_count": null,
   "metadata": {
    "collapsed": false
   },
   "outputs": [],
   "source": [
    "data.head()"
   ]
  },
  {
   "cell_type": "code",
   "execution_count": null,
   "metadata": {
    "collapsed": false
   },
   "outputs": [],
   "source": [
    "X = data.ix[:,:-1]\n",
    "y = data.ix[:,-1]"
   ]
  },
  {
   "cell_type": "markdown",
   "metadata": {},
   "source": [
    "# Exercise begin!\n",
    "\n",
    "\n",
    "1. Use Logistic regression to detect genuine vs nongenuine bank notes. How does it perform in and out of sample?\n",
    "2. Use SVM classifier to detect genuine vs nongenuine bank notes. Incorporate CV through grid search if you would like. Discuss your findings and thoughts with a partner.\n",
    "\n",
    "\n",
    "\n",
    "## Helpful Notes:\n",
    "1. If you try to fit and test on the entire dataset, you might get a 100% score.\n",
    "2. Try using cross validation to see the performance out of sample\n",
    "3. If this still confuses you, don't use all the features and/or try using a linear kernel.\n",
    "4. Try plotting scatters of the features to see why (i.e. maybe there's already a linear hyperplane we can use without needing to use kernels). The scatters might shed light onto why a linear kernel might have a harder time."
   ]
  },
  {
   "cell_type": "code",
   "execution_count": null,
   "metadata": {
    "collapsed": false
   },
   "outputs": [],
   "source": []
  },
  {
   "cell_type": "code",
   "execution_count": null,
   "metadata": {
    "collapsed": false
   },
   "outputs": [],
   "source": []
  },
  {
   "cell_type": "code",
   "execution_count": null,
   "metadata": {
    "collapsed": true
   },
   "outputs": [],
   "source": []
  }
 ],
 "metadata": {
  "kernelspec": {
   "display_name": "Python 2",
   "language": "python",
   "name": "python2"
  },
  "language_info": {
   "codemirror_mode": {
    "name": "ipython",
    "version": 2
   },
   "file_extension": ".py",
   "mimetype": "text/x-python",
   "name": "python",
   "nbconvert_exporter": "python",
   "pygments_lexer": "ipython2",
   "version": "2.7.11"
  }
 },
 "nbformat": 4,
 "nbformat_minor": 0
}
