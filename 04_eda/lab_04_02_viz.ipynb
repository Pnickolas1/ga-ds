{
 "cells": [
  {
   "cell_type": "markdown",
   "metadata": {},
   "source": [
    "# Visualizations\n",
    "\n",
    "Being able to proficiently visualize your data will be important to properly understand your data. So far, we've used pyplot up to the extent that it creates plots, but we'll get more in depth with a few of them now.\n",
    "\n",
    "- The standard visualization package of python is `matplotlib`, which works fine, is very customizable, but doesn't always looks too great.\n",
    "- `Seaborn` is another package that is built on top of `matplotlib` and looks a little better.\n",
    "- `Vincent` is another package you might want to try out later.\n",
    "- We use the magic command `%matplotlib inline` so that images are embedded in the notebook.\n",
    "- See the <a href=\"http://matplotlib.org/users/pyplot_tutorial.html\" target=\"_blank\">pyplot tutorial</a> for a quick Getting Started guide.\n",
    "\n",
    "We will go over a few exercises today with some of the options out there using `matplotlib.pyplot` as well as `seaborn`."
   ]
  },
  {
   "cell_type": "code",
   "execution_count": 1,
   "metadata": {
    "collapsed": true
   },
   "outputs": [],
   "source": [
    "from matplotlib import pyplot as plt\n",
    "%matplotlib inline"
   ]
  },
  {
   "cell_type": "markdown",
   "metadata": {},
   "source": [
    "- The most common function of matplotlib is `plot`.\n",
    "- Type `?plt.plot` to see the doc string.\n",
    "- It takes in either a single series (i.e. plots using sequential indexes for the x axis), or two series (the first series indicating the x axis, the second series indicating the y axis)"
   ]
  },
  {
   "cell_type": "code",
   "execution_count": 3,
   "metadata": {
    "collapsed": false
   },
   "outputs": [
    {
     "name": "stdout",
     "output_type": "stream",
     "text": [
      "[0, 1, 2, 3, 4, 5, 6, 7, 8, 9]\n",
      "[1, 2, 5, 10, 17, 26, 37, 50, 65, 82]\n"
     ]
    }
   ],
   "source": [
    "xx = range(10)\n",
    "\n",
    "yy = [x ** 2 + 1 for x in xx]  \n",
    "\n",
    "print xx\n",
    "print yy"
   ]
  },
  {
   "cell_type": "code",
   "execution_count": 4,
   "metadata": {
    "collapsed": false
   },
   "outputs": [
    {
     "data": {
      "text/plain": [
       "[<matplotlib.lines.Line2D at 0x107c86190>]"
      ]
     },
     "execution_count": 4,
     "metadata": {},
     "output_type": "execute_result"
    },
    {
     "data": {
      "image/png": "[encoded data removed]",
      "text/plain": [
       "<matplotlib.figure.Figure at 0x107b2e8d0>"
      ]
     },
     "metadata": {},
     "output_type": "display_data"
    }
   ],
   "source": [
    "plt.plot( xx, yy, 'r:' )  # 'r' = red, and ':' = dotted line"
   ]
  },
  {
   "cell_type": "markdown",
   "metadata": {},
   "source": [
    "Almost everything is customizable in `matplotlib`."
   ]
  },
  {
   "cell_type": "code",
   "execution_count": 9,
   "metadata": {
    "collapsed": false
   },
   "outputs": [
    {
     "data": {
      "image/png": "[encoded data removed]",
      "text/plain": [
       "<matplotlib.figure.Figure at 0x1082a9a10>"
      ]
     },
     "metadata": {},
     "output_type": "display_data"
    }
   ],
   "source": [
    "plt.title(\"Hello, world!\")\n",
    "plt.xlabel(\"x-axis\")\n",
    "plt.ylabel(\"y-axis\")\n",
    "plt.xlim(0, 5)\n",
    "plt.ylim(0, 70)\n",
    "plt.plot(xx, yy, 'bs-')\n",
    "plt.plot(range(6), range(6), 'y*:', markersize=10)\n",
    "\n",
    "# # I often write `f = ` on the last line to surpress the output `<matplotlib.lines.Line2D at 0x10c750390>`\n",
    "f = plt.legend(['Parabola','Star'])"
   ]
  },
  {
   "cell_type": "code",
   "execution_count": 12,
   "metadata": {
    "collapsed": false
   },
   "outputs": [
    {
     "data": {
      "text/html": [
       "<div>\n",
       "<table border=\"1\" class=\"dataframe\">\n",
       "  <thead>\n",
       "    <tr style=\"text-align: right;\">\n",
       "      <th></th>\n",
       "      <th>Rets</th>\n",
       "    </tr>\n",
       "  </thead>\n",
       "  <tbody>\n",
       "    <tr>\n",
       "      <th>2015-01-31</th>\n",
       "      <td>0.855650</td>\n",
       "    </tr>\n",
       "    <tr>\n",
       "      <th>2015-02-28</th>\n",
       "      <td>0.455511</td>\n",
       "    </tr>\n",
       "    <tr>\n",
       "      <th>2015-03-31</th>\n",
       "      <td>0.274938</td>\n",
       "    </tr>\n",
       "    <tr>\n",
       "      <th>2015-04-30</th>\n",
       "      <td>0.315826</td>\n",
       "    </tr>\n",
       "    <tr>\n",
       "      <th>2015-05-31</th>\n",
       "      <td>0.611375</td>\n",
       "    </tr>\n",
       "    <tr>\n",
       "      <th>2015-06-30</th>\n",
       "      <td>0.430403</td>\n",
       "    </tr>\n",
       "    <tr>\n",
       "      <th>2015-07-31</th>\n",
       "      <td>0.912575</td>\n",
       "    </tr>\n",
       "    <tr>\n",
       "      <th>2015-08-31</th>\n",
       "      <td>0.694635</td>\n",
       "    </tr>\n",
       "    <tr>\n",
       "      <th>2015-09-30</th>\n",
       "      <td>0.623821</td>\n",
       "    </tr>\n",
       "    <tr>\n",
       "      <th>2015-10-31</th>\n",
       "      <td>0.862845</td>\n",
       "    </tr>\n",
       "  </tbody>\n",
       "</table>\n",
       "</div>"
      ],
      "text/plain": [
       "                Rets\n",
       "2015-01-31  0.855650\n",
       "2015-02-28  0.455511\n",
       "2015-03-31  0.274938\n",
       "2015-04-30  0.315826\n",
       "2015-05-31  0.611375\n",
       "2015-06-30  0.430403\n",
       "2015-07-31  0.912575\n",
       "2015-08-31  0.694635\n",
       "2015-09-30  0.623821\n",
       "2015-10-31  0.862845"
      ]
     },
     "execution_count": 12,
     "metadata": {},
     "output_type": "execute_result"
    }
   ],
   "source": [
    "import pandas as pd\n",
    "import numpy as np\n",
    "x = pd.DataFrame( np.random.rand(10), index=pd.date_range('2015-01-01','2015-10-31',freq='m'),columns=['Rets'] )\n",
    "x"
   ]
  },
  {
   "cell_type": "code",
   "execution_count": 18,
   "metadata": {
    "collapsed": false
   },
   "outputs": [
    {
     "data": {
      "text/plain": [
       "<matplotlib.text.Text at 0x109b1be50>"
      ]
     },
     "execution_count": 18,
     "metadata": {},
     "output_type": "execute_result"
    },
    {
     "data": {
      "image/png": "[encoded data removed]",
      "text/plain": [
       "<matplotlib.figure.Figure at 0x109bb2450>"
      ]
     },
     "metadata": {},
     "output_type": "display_data"
    }
   ],
   "source": [
    "x.cumsum().plot()\n",
    "plt.title('Cumulative Return')\n",
    "plt.xlabel('Month')\n",
    "plt.ylabel('Return')"
   ]
  },
  {
   "cell_type": "code",
   "execution_count": 20,
   "metadata": {
    "collapsed": false
   },
   "outputs": [
    {
     "data": {
      "text/html": [
       "<div>\n",
       "<table border=\"1\" class=\"dataframe\">\n",
       "  <thead>\n",
       "    <tr style=\"text-align: right;\">\n",
       "      <th></th>\n",
       "      <th>ARets</th>\n",
       "      <th>BRets</th>\n",
       "    </tr>\n",
       "  </thead>\n",
       "  <tbody>\n",
       "    <tr>\n",
       "      <th>2015-01-31</th>\n",
       "      <td>0.810354</td>\n",
       "      <td>0.568601</td>\n",
       "    </tr>\n",
       "    <tr>\n",
       "      <th>2015-02-28</th>\n",
       "      <td>0.677169</td>\n",
       "      <td>0.370483</td>\n",
       "    </tr>\n",
       "    <tr>\n",
       "      <th>2015-03-31</th>\n",
       "      <td>0.870614</td>\n",
       "      <td>0.463935</td>\n",
       "    </tr>\n",
       "    <tr>\n",
       "      <th>2015-04-30</th>\n",
       "      <td>0.325750</td>\n",
       "      <td>0.145695</td>\n",
       "    </tr>\n",
       "    <tr>\n",
       "      <th>2015-05-31</th>\n",
       "      <td>0.957338</td>\n",
       "      <td>0.926775</td>\n",
       "    </tr>\n",
       "    <tr>\n",
       "      <th>2015-06-30</th>\n",
       "      <td>0.455868</td>\n",
       "      <td>0.357433</td>\n",
       "    </tr>\n",
       "    <tr>\n",
       "      <th>2015-07-31</th>\n",
       "      <td>0.869414</td>\n",
       "      <td>0.900460</td>\n",
       "    </tr>\n",
       "    <tr>\n",
       "      <th>2015-08-31</th>\n",
       "      <td>0.749616</td>\n",
       "      <td>0.357023</td>\n",
       "    </tr>\n",
       "    <tr>\n",
       "      <th>2015-09-30</th>\n",
       "      <td>0.200721</td>\n",
       "      <td>0.776343</td>\n",
       "    </tr>\n",
       "    <tr>\n",
       "      <th>2015-10-31</th>\n",
       "      <td>0.528388</td>\n",
       "      <td>0.241448</td>\n",
       "    </tr>\n",
       "  </tbody>\n",
       "</table>\n",
       "</div>"
      ],
      "text/plain": [
       "               ARets     BRets\n",
       "2015-01-31  0.810354  0.568601\n",
       "2015-02-28  0.677169  0.370483\n",
       "2015-03-31  0.870614  0.463935\n",
       "2015-04-30  0.325750  0.145695\n",
       "2015-05-31  0.957338  0.926775\n",
       "2015-06-30  0.455868  0.357433\n",
       "2015-07-31  0.869414  0.900460\n",
       "2015-08-31  0.749616  0.357023\n",
       "2015-09-30  0.200721  0.776343\n",
       "2015-10-31  0.528388  0.241448"
      ]
     },
     "execution_count": 20,
     "metadata": {},
     "output_type": "execute_result"
    }
   ],
   "source": [
    "x = pd.DataFrame( np.random.rand(10,2), \n",
    "                  index=pd.date_range('2015-01-01','2015-10-31',freq='m'),\n",
    "                  columns=['ARets','BRets'] )\n",
    "x"
   ]
  },
  {
   "cell_type": "code",
   "execution_count": 22,
   "metadata": {
    "collapsed": false
   },
   "outputs": [
    {
     "data": {
      "text/plain": [
       "<matplotlib.text.Text at 0x10a0ad250>"
      ]
     },
     "execution_count": 22,
     "metadata": {},
     "output_type": "execute_result"
    },
    {
     "data": {
      "image/png": "[encoded data removed]",
      "text/plain": [
       "<matplotlib.figure.Figure at 0x109eb5e90>"
      ]
     },
     "metadata": {},
     "output_type": "display_data"
    }
   ],
   "source": [
    "x.cumsum().plot()\n",
    "plt.xlabel('Month')\n",
    "plt.ylabel('Return')\n",
    "plt.title('ARet vs BRet Cumulative Return')"
   ]
  },
  {
   "cell_type": "code",
   "execution_count": 24,
   "metadata": {
    "collapsed": false
   },
   "outputs": [
    {
     "data": {
      "text/html": [
       "<div>\n",
       "<table border=\"1\" class=\"dataframe\">\n",
       "  <thead>\n",
       "    <tr style=\"text-align: right;\">\n",
       "      <th></th>\n",
       "      <th>0</th>\n",
       "    </tr>\n",
       "  </thead>\n",
       "  <tbody>\n",
       "    <tr>\n",
       "      <th>0</th>\n",
       "      <td>-1.214749</td>\n",
       "    </tr>\n",
       "    <tr>\n",
       "      <th>1</th>\n",
       "      <td>-0.410571</td>\n",
       "    </tr>\n",
       "    <tr>\n",
       "      <th>2</th>\n",
       "      <td>-1.268716</td>\n",
       "    </tr>\n",
       "    <tr>\n",
       "      <th>3</th>\n",
       "      <td>-0.249803</td>\n",
       "    </tr>\n",
       "    <tr>\n",
       "      <th>4</th>\n",
       "      <td>1.819970</td>\n",
       "    </tr>\n",
       "    <tr>\n",
       "      <th>5</th>\n",
       "      <td>-0.770888</td>\n",
       "    </tr>\n",
       "    <tr>\n",
       "      <th>6</th>\n",
       "      <td>1.641933</td>\n",
       "    </tr>\n",
       "    <tr>\n",
       "      <th>7</th>\n",
       "      <td>-1.092025</td>\n",
       "    </tr>\n",
       "    <tr>\n",
       "      <th>8</th>\n",
       "      <td>-0.716358</td>\n",
       "    </tr>\n",
       "    <tr>\n",
       "      <th>9</th>\n",
       "      <td>0.672110</td>\n",
       "    </tr>\n",
       "    <tr>\n",
       "      <th>10</th>\n",
       "      <td>0.665894</td>\n",
       "    </tr>\n",
       "    <tr>\n",
       "      <th>11</th>\n",
       "      <td>-1.221018</td>\n",
       "    </tr>\n",
       "    <tr>\n",
       "      <th>12</th>\n",
       "      <td>-0.593995</td>\n",
       "    </tr>\n",
       "    <tr>\n",
       "      <th>13</th>\n",
       "      <td>0.885809</td>\n",
       "    </tr>\n",
       "    <tr>\n",
       "      <th>14</th>\n",
       "      <td>1.081068</td>\n",
       "    </tr>\n",
       "    <tr>\n",
       "      <th>15</th>\n",
       "      <td>-1.337466</td>\n",
       "    </tr>\n",
       "    <tr>\n",
       "      <th>16</th>\n",
       "      <td>-0.675161</td>\n",
       "    </tr>\n",
       "    <tr>\n",
       "      <th>17</th>\n",
       "      <td>0.419139</td>\n",
       "    </tr>\n",
       "    <tr>\n",
       "      <th>18</th>\n",
       "      <td>-1.442652</td>\n",
       "    </tr>\n",
       "    <tr>\n",
       "      <th>19</th>\n",
       "      <td>-0.113177</td>\n",
       "    </tr>\n",
       "    <tr>\n",
       "      <th>20</th>\n",
       "      <td>0.334709</td>\n",
       "    </tr>\n",
       "    <tr>\n",
       "      <th>21</th>\n",
       "      <td>0.148841</td>\n",
       "    </tr>\n",
       "    <tr>\n",
       "      <th>22</th>\n",
       "      <td>-0.941743</td>\n",
       "    </tr>\n",
       "    <tr>\n",
       "      <th>23</th>\n",
       "      <td>0.258947</td>\n",
       "    </tr>\n",
       "    <tr>\n",
       "      <th>24</th>\n",
       "      <td>0.332987</td>\n",
       "    </tr>\n",
       "    <tr>\n",
       "      <th>25</th>\n",
       "      <td>-0.922554</td>\n",
       "    </tr>\n",
       "    <tr>\n",
       "      <th>26</th>\n",
       "      <td>1.098048</td>\n",
       "    </tr>\n",
       "    <tr>\n",
       "      <th>27</th>\n",
       "      <td>-0.499273</td>\n",
       "    </tr>\n",
       "    <tr>\n",
       "      <th>28</th>\n",
       "      <td>0.174575</td>\n",
       "    </tr>\n",
       "    <tr>\n",
       "      <th>29</th>\n",
       "      <td>2.101007</td>\n",
       "    </tr>\n",
       "    <tr>\n",
       "      <th>...</th>\n",
       "      <td>...</td>\n",
       "    </tr>\n",
       "    <tr>\n",
       "      <th>99970</th>\n",
       "      <td>0.030539</td>\n",
       "    </tr>\n",
       "    <tr>\n",
       "      <th>99971</th>\n",
       "      <td>-0.292711</td>\n",
       "    </tr>\n",
       "    <tr>\n",
       "      <th>99972</th>\n",
       "      <td>2.153135</td>\n",
       "    </tr>\n",
       "    <tr>\n",
       "      <th>99973</th>\n",
       "      <td>-0.942226</td>\n",
       "    </tr>\n",
       "    <tr>\n",
       "      <th>99974</th>\n",
       "      <td>0.586322</td>\n",
       "    </tr>\n",
       "    <tr>\n",
       "      <th>99975</th>\n",
       "      <td>0.620506</td>\n",
       "    </tr>\n",
       "    <tr>\n",
       "      <th>99976</th>\n",
       "      <td>0.597997</td>\n",
       "    </tr>\n",
       "    <tr>\n",
       "      <th>99977</th>\n",
       "      <td>-0.299482</td>\n",
       "    </tr>\n",
       "    <tr>\n",
       "      <th>99978</th>\n",
       "      <td>-1.031836</td>\n",
       "    </tr>\n",
       "    <tr>\n",
       "      <th>99979</th>\n",
       "      <td>0.869221</td>\n",
       "    </tr>\n",
       "    <tr>\n",
       "      <th>99980</th>\n",
       "      <td>-0.252347</td>\n",
       "    </tr>\n",
       "    <tr>\n",
       "      <th>99981</th>\n",
       "      <td>-0.789203</td>\n",
       "    </tr>\n",
       "    <tr>\n",
       "      <th>99982</th>\n",
       "      <td>1.303816</td>\n",
       "    </tr>\n",
       "    <tr>\n",
       "      <th>99983</th>\n",
       "      <td>-1.276483</td>\n",
       "    </tr>\n",
       "    <tr>\n",
       "      <th>99984</th>\n",
       "      <td>0.082033</td>\n",
       "    </tr>\n",
       "    <tr>\n",
       "      <th>99985</th>\n",
       "      <td>-2.266398</td>\n",
       "    </tr>\n",
       "    <tr>\n",
       "      <th>99986</th>\n",
       "      <td>0.389765</td>\n",
       "    </tr>\n",
       "    <tr>\n",
       "      <th>99987</th>\n",
       "      <td>0.797017</td>\n",
       "    </tr>\n",
       "    <tr>\n",
       "      <th>99988</th>\n",
       "      <td>-1.160177</td>\n",
       "    </tr>\n",
       "    <tr>\n",
       "      <th>99989</th>\n",
       "      <td>2.358920</td>\n",
       "    </tr>\n",
       "    <tr>\n",
       "      <th>99990</th>\n",
       "      <td>-1.053311</td>\n",
       "    </tr>\n",
       "    <tr>\n",
       "      <th>99991</th>\n",
       "      <td>0.154102</td>\n",
       "    </tr>\n",
       "    <tr>\n",
       "      <th>99992</th>\n",
       "      <td>-0.380124</td>\n",
       "    </tr>\n",
       "    <tr>\n",
       "      <th>99993</th>\n",
       "      <td>0.660988</td>\n",
       "    </tr>\n",
       "    <tr>\n",
       "      <th>99994</th>\n",
       "      <td>-0.637477</td>\n",
       "    </tr>\n",
       "    <tr>\n",
       "      <th>99995</th>\n",
       "      <td>-0.533302</td>\n",
       "    </tr>\n",
       "    <tr>\n",
       "      <th>99996</th>\n",
       "      <td>0.225316</td>\n",
       "    </tr>\n",
       "    <tr>\n",
       "      <th>99997</th>\n",
       "      <td>-2.314713</td>\n",
       "    </tr>\n",
       "    <tr>\n",
       "      <th>99998</th>\n",
       "      <td>-1.649402</td>\n",
       "    </tr>\n",
       "    <tr>\n",
       "      <th>99999</th>\n",
       "      <td>-0.758863</td>\n",
       "    </tr>\n",
       "  </tbody>\n",
       "</table>\n",
       "<p>100000 rows × 1 columns</p>\n",
       "</div>"
      ],
      "text/plain": [
       "              0\n",
       "0     -1.214749\n",
       "1     -0.410571\n",
       "2     -1.268716\n",
       "3     -0.249803\n",
       "4      1.819970\n",
       "5     -0.770888\n",
       "6      1.641933\n",
       "7     -1.092025\n",
       "8     -0.716358\n",
       "9      0.672110\n",
       "10     0.665894\n",
       "11    -1.221018\n",
       "12    -0.593995\n",
       "13     0.885809\n",
       "14     1.081068\n",
       "15    -1.337466\n",
       "16    -0.675161\n",
       "17     0.419139\n",
       "18    -1.442652\n",
       "19    -0.113177\n",
       "20     0.334709\n",
       "21     0.148841\n",
       "22    -0.941743\n",
       "23     0.258947\n",
       "24     0.332987\n",
       "25    -0.922554\n",
       "26     1.098048\n",
       "27    -0.499273\n",
       "28     0.174575\n",
       "29     2.101007\n",
       "...         ...\n",
       "99970  0.030539\n",
       "99971 -0.292711\n",
       "99972  2.153135\n",
       "99973 -0.942226\n",
       "99974  0.586322\n",
       "99975  0.620506\n",
       "99976  0.597997\n",
       "99977 -0.299482\n",
       "99978 -1.031836\n",
       "99979  0.869221\n",
       "99980 -0.252347\n",
       "99981 -0.789203\n",
       "99982  1.303816\n",
       "99983 -1.276483\n",
       "99984  0.082033\n",
       "99985 -2.266398\n",
       "99986  0.389765\n",
       "99987  0.797017\n",
       "99988 -1.160177\n",
       "99989  2.358920\n",
       "99990 -1.053311\n",
       "99991  0.154102\n",
       "99992 -0.380124\n",
       "99993  0.660988\n",
       "99994 -0.637477\n",
       "99995 -0.533302\n",
       "99996  0.225316\n",
       "99997 -2.314713\n",
       "99998 -1.649402\n",
       "99999 -0.758863\n",
       "\n",
       "[100000 rows x 1 columns]"
      ]
     },
     "execution_count": 24,
     "metadata": {},
     "output_type": "execute_result"
    }
   ],
   "source": [
    "x = pd.DataFrame( np.random.randn(100000) )\n",
    "x"
   ]
  },
  {
   "cell_type": "code",
   "execution_count": 25,
   "metadata": {
    "collapsed": false
   },
   "outputs": [
    {
     "data": {
      "text/plain": [
       "array([[<matplotlib.axes._subplots.AxesSubplot object at 0x109ec0750>]], dtype=object)"
      ]
     },
     "execution_count": 25,
     "metadata": {},
     "output_type": "execute_result"
    },
    {
     "data": {
      "image/png": "[encoded data removed]",
      "text/plain": [
       "<matplotlib.figure.Figure at 0x10a051990>"
      ]
     },
     "metadata": {},
     "output_type": "display_data"
    }
   ],
   "source": [
    "# Histogram is a great way to get a distribution of a series. \n",
    "# I.e. if you don't know how a series is distributed, use histogram!\n",
    "# Use ?plt.hist() or ?x.hist() to get more information, or just hit shift-tab while you're typing out the function\n",
    "x.hist()"
   ]
  },
  {
   "cell_type": "code",
   "execution_count": 30,
   "metadata": {
    "collapsed": false
   },
   "outputs": [
    {
     "data": {
      "text/html": [
       "<div>\n",
       "<table border=\"1\" class=\"dataframe\">\n",
       "  <thead>\n",
       "    <tr style=\"text-align: right;\">\n",
       "      <th></th>\n",
       "      <th>ARets</th>\n",
       "      <th>BRets</th>\n",
       "    </tr>\n",
       "  </thead>\n",
       "  <tbody>\n",
       "    <tr>\n",
       "      <th>2015-01-31</th>\n",
       "      <td>0.524501</td>\n",
       "      <td>0.345865</td>\n",
       "    </tr>\n",
       "    <tr>\n",
       "      <th>2015-02-28</th>\n",
       "      <td>0.940621</td>\n",
       "      <td>0.673452</td>\n",
       "    </tr>\n",
       "    <tr>\n",
       "      <th>2015-03-31</th>\n",
       "      <td>0.774593</td>\n",
       "      <td>0.279191</td>\n",
       "    </tr>\n",
       "    <tr>\n",
       "      <th>2015-04-30</th>\n",
       "      <td>0.159164</td>\n",
       "      <td>0.681343</td>\n",
       "    </tr>\n",
       "    <tr>\n",
       "      <th>2015-05-31</th>\n",
       "      <td>0.644236</td>\n",
       "      <td>0.615781</td>\n",
       "    </tr>\n",
       "    <tr>\n",
       "      <th>2015-06-30</th>\n",
       "      <td>0.397424</td>\n",
       "      <td>0.624614</td>\n",
       "    </tr>\n",
       "    <tr>\n",
       "      <th>2015-07-31</th>\n",
       "      <td>0.928215</td>\n",
       "      <td>0.928342</td>\n",
       "    </tr>\n",
       "    <tr>\n",
       "      <th>2015-08-31</th>\n",
       "      <td>0.898399</td>\n",
       "      <td>0.032741</td>\n",
       "    </tr>\n",
       "    <tr>\n",
       "      <th>2015-09-30</th>\n",
       "      <td>0.521137</td>\n",
       "      <td>0.559238</td>\n",
       "    </tr>\n",
       "    <tr>\n",
       "      <th>2015-10-31</th>\n",
       "      <td>0.668097</td>\n",
       "      <td>0.752984</td>\n",
       "    </tr>\n",
       "  </tbody>\n",
       "</table>\n",
       "</div>"
      ],
      "text/plain": [
       "               ARets     BRets\n",
       "2015-01-31  0.524501  0.345865\n",
       "2015-02-28  0.940621  0.673452\n",
       "2015-03-31  0.774593  0.279191\n",
       "2015-04-30  0.159164  0.681343\n",
       "2015-05-31  0.644236  0.615781\n",
       "2015-06-30  0.397424  0.624614\n",
       "2015-07-31  0.928215  0.928342\n",
       "2015-08-31  0.898399  0.032741\n",
       "2015-09-30  0.521137  0.559238\n",
       "2015-10-31  0.668097  0.752984"
      ]
     },
     "execution_count": 30,
     "metadata": {},
     "output_type": "execute_result"
    }
   ],
   "source": [
    "# #Lets go back to a bivariate data frame\n",
    "x = pd.DataFrame( np.random.rand(10,2), \n",
    "                  index=pd.date_range('2015-01-01','2015-10-31',freq='m'),\n",
    "                  columns=['ARets','BRets'] )\n",
    "x"
   ]
  },
  {
   "cell_type": "code",
   "execution_count": 32,
   "metadata": {
    "collapsed": false
   },
   "outputs": [
    {
     "data": {
      "text/plain": [
       "<matplotlib.legend.Legend at 0x10a917850>"
      ]
     },
     "execution_count": 32,
     "metadata": {},
     "output_type": "execute_result"
    },
    {
     "data": {
      "image/png": "[encoded data removed]",
      "text/plain": [
       "<matplotlib.figure.Figure at 0x10a917790>"
      ]
     },
     "metadata": {},
     "output_type": "display_data"
    }
   ],
   "source": [
    "# # Let's plot 'arets' and 'brets' as points on a plot\n",
    "plt.scatter( x['ARets'], x['BRets'] )\n",
    "plt.xlabel('ARet')\n",
    "plt.ylabel('BRet')\n",
    "plt.legend(['ABRet Points'])"
   ]
  },
  {
   "cell_type": "markdown",
   "metadata": {},
   "source": [
    "# Seaborn\n",
    "\n",
    "Let's see how good the graphs look with `seaborn`. \n",
    "\n",
    "`import seaborn as sb`\n",
    "\n",
    "Once you've imported seaborn, you can just call pyplot functions as is and you'll get prettier plots. In addition, the seaborn package itself has additional plots you can call. Let's rerun the scatter plot to see how much prettier it is."
   ]
  },
  {
   "cell_type": "code",
   "execution_count": 33,
   "metadata": {
    "collapsed": true
   },
   "outputs": [],
   "source": [
    "import seaborn as sb"
   ]
  },
  {
   "cell_type": "code",
   "execution_count": 34,
   "metadata": {
    "collapsed": false
   },
   "outputs": [
    {
     "data": {
      "text/plain": [
       "<matplotlib.collections.PathCollection at 0x10c406e10>"
      ]
     },
     "execution_count": 34,
     "metadata": {},
     "output_type": "execute_result"
    },
    {
     "data": {
      "image/png": "[encoded data removed]",
      "text/plain": [
       "<matplotlib.figure.Figure at 0x10c338f50>"
      ]
     },
     "metadata": {},
     "output_type": "display_data"
    }
   ],
   "source": [
    "# # Let's plot 'arets' and 'brets' as points on a plot\n",
    "plt.scatter( x['ARets'], x['BRets'] )\n",
    "# plt.xlabel('ARet')\n",
    "# plt.ylabel('BRet')\n",
    "# plt.legend(['ABRet Points'])"
   ]
  },
  {
   "cell_type": "code",
   "execution_count": 36,
   "metadata": {
    "collapsed": false
   },
   "outputs": [
    {
     "data": {
      "text/plain": [
       "<matplotlib.axes._subplots.AxesSubplot at 0x10c615c10>"
      ]
     },
     "execution_count": 36,
     "metadata": {},
     "output_type": "execute_result"
    },
    {
     "data": {
      "image/png": "[encoded data removed]",
      "text/plain": [
       "<matplotlib.figure.Figure at 0x10c615450>"
      ]
     },
     "metadata": {},
     "output_type": "display_data"
    }
   ],
   "source": [
    "x.plot()"
   ]
  },
  {
   "cell_type": "markdown",
   "metadata": {},
   "source": [
    "How about for histogram?"
   ]
  },
  {
   "cell_type": "code",
   "execution_count": 13,
   "metadata": {
    "collapsed": false
   },
   "outputs": [],
   "source": [
    "# x = pd.DataFrame( np.random.randn(100000) )\n",
    "# x.hist()"
   ]
  },
  {
   "cell_type": "markdown",
   "metadata": {},
   "source": [
    "We'll try using seaborn more throughout the class, and will have an example later today."
   ]
  },
  {
   "cell_type": "markdown",
   "metadata": {},
   "source": [
    "# Anscombe's Quartet\n",
    "Source: [Wikipedia](https://en.wikipedia.org/wiki/Anscombe's_quartet)\n",
    "\n",
    "To start off with, let's take a look at Anscombe's Quartet. It is a collection of four different datasets, where each dataset has an $x$ and $y$ dimension.\n",
    "\n",
    "Their basic statistics looks very similar, but they're not quite identical."
   ]
  },
  {
   "cell_type": "code",
   "execution_count": 14,
   "metadata": {
    "collapsed": true
   },
   "outputs": [],
   "source": [
    "# import pandas as pd\n",
    "# import numpy as np\n",
    "# from matplotlib import pyplot as plt\n",
    "# %matplotlib inline"
   ]
  },
  {
   "cell_type": "code",
   "execution_count": null,
   "metadata": {
    "collapsed": false
   },
   "outputs": [],
   "source": [
    "data = pd.DataFrame({'x1': [10.0, 8.0, 13.0, 9.0, 11.0, 14.0, 6.0, 4.0, 12.0, 7.0, 5.0],\n",
    "     'y1': [8.04, 6.95, 7.58, 8.81, 8.33, 9.96, 7.24, 4.26, 10.84, 4.82, 5.68],\n",
    "     'x2': [10.0, 8.0, 13.0, 9.0, 11.0, 14.0, 6.0, 4.0, 12.0, 7.0, 5.0,],\n",
    "     'y2': [9.14, 8.14, 8.74, 8.77, 9.26, 8.10, 6.13, 3.10, 9.13, 7.26, 4.74],\n",
    "     'x3': [10.0, 8.0, 13.0, 9.0, 11.0, 14.0, 6.0, 4.0, 12.0, 7.0, 5.0,],\n",
    "     'y3': [7.46, 6.77, 12.74, 7.11, 7.81, 8.84, 6.08, 5.39, 8.15, 6.42, 5.73],\n",
    "     'x4': [8.0, 8.0, 8.0, 8.0, 8.0, 8.0, 8.0, 19.0, 8.0, 8.0, 8.0],\n",
    "     'y4': [6.58, 5.76, 7.71, 8.84, 8.47, 7.04, 5.25, 12.50, 5.56, 7.91, 6.89]})\n",
    "data # This dataframe contains anscombe's quartet (i.e. (x1,y1), (x2,y2), (x3,y3), (x4,y4) )"
   ]
  },
  {
   "cell_type": "markdown",
   "metadata": {},
   "source": [
    "# Exercise\n",
    "\n",
    "**1) For each of the four datasets (i.e., for $(x_1, y_1)$, for $(x_2, y_2)$, etc), compute some basic statistics:**\n",
    "\n",
    "For $x_i$ and $y_i$, generate:\n",
    "- the mean and the standard deviation\n",
    "- the correlation between $x_i$ and $y_i$. Hint: Use np.corrcoef or the Pandas dataframe function corr()\n",
    "\n",
    "Hint: Create labels of $x_i$ and $y_i$ to be able to index into the dataframe for each $i$. This way, you can subset the columns in the `data` dataframe, and call mean(), std()\n",
    "\n",
    "Hint2: Pandas dataframe calls to mean(), std(), corr(), etc. can be tuple unpacked\n",
    "\n",
    "```\n",
    "df = pd.DataFrame([[0,1],[2,3]], index = [0,1],columns=['A','B'])\n",
    "asum, bsum = df.sum()\n",
    "print asum, bsum\n",
    "```"
   ]
  },
  {
   "cell_type": "code",
   "execution_count": null,
   "metadata": {
    "collapsed": false
   },
   "outputs": [],
   "source": [
    "for i in xrange(1,5):\n",
    "    x,y = \"x\" + str(i), \"y\" + str(i)\n",
    "    # Your code here"
   ]
  },
  {
   "cell_type": "markdown",
   "metadata": {},
   "source": [
    "These data points must be exactly the same..? \n",
    "\n",
    "**2) Generate a scatterplot for each set of $x_i$ and $y_i$.**\n",
    "\n",
    "Hint: Use the \"plt.scatter\" function, passing in array of x, and the array of y you would like to scatterplot."
   ]
  },
  {
   "cell_type": "code",
   "execution_count": null,
   "metadata": {
    "collapsed": false
   },
   "outputs": [],
   "source": [
    "for i in xrange(1,5):\n",
    "    x,y = \"x\"+str(i), \"y\"+str(i)\n",
    "    plt.figure(figsize=(18,4))\n",
    "    plt.subplot(2,2,i-1)\n",
    "    # Your code here"
   ]
  },
  {
   "cell_type": "markdown",
   "metadata": {},
   "source": [
    "**3) Seaborn is a visual package that is built on top of Matplotlib Pyplot. It makes plots look a lot nicer, and has some additional plotting capabilities (for instance heat maps). **\n",
    "\n",
    "If you finish the exercise early, go ahead and install `seaborn`.\n",
    "\n",
    "Go to your terminal, and type in `pip install seaborn`. Afterwards, try importing seaborn ala:\n",
    "\n",
    "`import seaborn`"
   ]
  },
  {
   "cell_type": "code",
   "execution_count": null,
   "metadata": {
    "collapsed": true
   },
   "outputs": [],
   "source": []
  },
  {
   "cell_type": "markdown",
   "metadata": {},
   "source": [
    "# Importance of Good Visualization\n",
    "\n",
    "We've seen how important it is to visualize our data. Even when data aggregate statistics are the same, they could be vastly different! Now, let's try plotting out some different plots to get ourselves familiar with the various plot types."
   ]
  },
  {
   "cell_type": "markdown",
   "metadata": {},
   "source": [
    "**4) Plot the function $f(x) = x^3 - 2x^2 + 4$ on the domain $[-5, 5]$. You can plot at each point by using `range`, or use np.lin_space to help generate points**"
   ]
  },
  {
   "cell_type": "code",
   "execution_count": null,
   "metadata": {
    "collapsed": false
   },
   "outputs": [],
   "source": []
  },
  {
   "cell_type": "markdown",
   "metadata": {},
   "source": [
    "Let's get some arbitrary dataset (see below)"
   ]
  },
  {
   "cell_type": "code",
   "execution_count": null,
   "metadata": {
    "collapsed": false
   },
   "outputs": [],
   "source": [
    "import numpy as np  # import numpy -- we will cover this later\n",
    "import pandas as pd\n",
    "N = 1000  # number of dots\n",
    "x = np.random.random(N)  # get N random values between 0 and 1\n",
    "df = pd.DataFrame(dict(\n",
    "        A=x,\n",
    "        B=func(x),\n",
    "        C=func(x) / func(x - 1)))\n",
    "df.head()"
   ]
  },
  {
   "cell_type": "markdown",
   "metadata": {},
   "source": [
    "**Scatterplot A against B, A against C, and B against C**"
   ]
  },
  {
   "cell_type": "code",
   "execution_count": null,
   "metadata": {
    "collapsed": false
   },
   "outputs": [],
   "source": [
    "# Scatter of A vs B here\n"
   ]
  },
  {
   "cell_type": "code",
   "execution_count": null,
   "metadata": {
    "collapsed": false
   },
   "outputs": [],
   "source": [
    "# Scatter of A vs C here\n"
   ]
  },
  {
   "cell_type": "code",
   "execution_count": null,
   "metadata": {
    "collapsed": false
   },
   "outputs": [],
   "source": [
    "# Scatter of B vs C here\n"
   ]
  },
  {
   "cell_type": "markdown",
   "metadata": {},
   "source": [
    "**Plot A against B, and make the size of the dots correspond with 100 * C. Hint: plt.scatter can take in an array for the `s` argument for indicating size**"
   ]
  },
  {
   "cell_type": "code",
   "execution_count": null,
   "metadata": {
    "collapsed": false
   },
   "outputs": [],
   "source": []
  },
  {
   "cell_type": "markdown",
   "metadata": {},
   "source": [
    "**Plot B against C, and make the _color_ of the dots correspond with A. (This should result in a grey scale.)**\n"
   ]
  },
  {
   "cell_type": "code",
   "execution_count": null,
   "metadata": {
    "collapsed": false
   },
   "outputs": [],
   "source": []
  },
  {
   "cell_type": "markdown",
   "metadata": {
    "collapsed": true
   },
   "source": [
    "## Further reading"
   ]
  },
  {
   "cell_type": "markdown",
   "metadata": {},
   "source": [
    "- <b>Pandas</b>:\n",
    "<a href=\"http://pandas.pydata.org/pandas-docs/stable/10min.html\" target=\"_blank\">10 Minutes to Pandas</a> and\n",
    "<a href=\"http://pandas.pydata.org/pandas-docs/stable/tutorials.html\" target=\"_blank\">tutorials</a>\n",
    "of the official documentation<br>\n",
    "Also recommended is the book <i>Python for Data Analysis</i>, O'Reilly Media.\n",
    "- <b>Matplotlib pyplot</b>:\n",
    "<a href=\"http://matplotlib.org/users/pyplot_tutorial.html\" target=\"_blank\">tutorial</a> \n",
    "of the official documentation\n",
    "- <b>Seaborn</b>:\n",
    "<a href=\"http://stanford.edu/~mwaskom/software/seaborn/\" target=\"_blank\">website</a>\n",
    "- <b>Vincent</b>:\n",
    "<a href=\"https://vincent.readthedocs.org/en/latest/\" target=\"_blank\">website</a>"
   ]
  }
 ],
 "metadata": {
  "kernelspec": {
   "display_name": "Python 2",
   "language": "python",
   "name": "python2"
  },
  "language_info": {
   "codemirror_mode": {
    "name": "ipython",
    "version": 2
   },
   "file_extension": ".py",
   "mimetype": "text/x-python",
   "name": "python",
   "nbconvert_exporter": "python",
   "pygments_lexer": "ipython2",
   "version": "2.7.10"
  }
 },
 "nbformat": 4,
 "nbformat_minor": 0
}
