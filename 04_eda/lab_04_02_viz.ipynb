{
 "cells": [
  {
   "cell_type": "markdown",
   "metadata": {},
   "source": [
    "# Visualizations\n",
    "\n",
    "Being able to proficiently visualize your data will be important to properly understand your data. So far, we've used pyplot up to the extent that it creates plots, but we'll get more in depth with a few of them now.\n",
    "\n",
    "- The standard visualization package of python is `matplotlib`, which works fine, is very customizable, but doesn't always looks too great.\n",
    "- `Seaborn` is another package that is built on top of `matplotlib` and looks a little better.\n",
    "- `Vincent` is another package you might want to try out later.\n",
    "- We use the magic command `%matplotlib inline` so that images are embedded in the notebook.\n",
    "- See the <a href=\"http://matplotlib.org/users/pyplot_tutorial.html\" target=\"_blank\">pyplot tutorial</a> for a quick Getting Started guide.\n",
    "\n",
    "We will go over a few exercises today with some of the options out there using `matplotlib.pyplot` as well as `seaborn`."
   ]
  },
  {
   "cell_type": "code",
   "execution_count": null,
   "metadata": {
    "collapsed": true
   },
   "outputs": [],
   "source": [
    "from matplotlib import pyplot as plt  \n",
    "%matplotlib inline  "
   ]
  },
  {
   "cell_type": "markdown",
   "metadata": {},
   "source": [
    "- The most common function of matplotlib is `plot`.\n",
    "- Type `?plt.plot` to see the doc string.\n",
    "- It takes in either a single series (i.e. plots using sequential indexes for the x axis), or two series (the first series indicating the x axis, the second series indicating the y axis)"
   ]
  },
  {
   "cell_type": "code",
   "execution_count": null,
   "metadata": {
    "collapsed": false
   },
   "outputs": [],
   "source": [
    "xx = range(10)\n",
    "yy = [x ** 2 + 1 for x in xx]\n",
    "plt.plot(xx, yy, 'r:')  # 'r' = red, and ':' = dotted line"
   ]
  },
  {
   "cell_type": "markdown",
   "metadata": {},
   "source": [
    "Almost everything is customizable in `matplotlib`."
   ]
  },
  {
   "cell_type": "code",
   "execution_count": null,
   "metadata": {
    "collapsed": false
   },
   "outputs": [],
   "source": [
    "plt.title(\"Hello, world!\")\n",
    "plt.xlabel(\"x-axis\"), plt.ylabel(\"y-axis\")\n",
    "plt.xlim(0, 5), plt.ylim(0, 70)\n",
    "plt.plot(xx, yy, 'bs-', label=\"parabole\")\n",
    "plt.plot(range(6), range(6), 'y*:', markersize=10, label=\"straight line\")\n",
    "\n",
    "# I often write `f = ` on the last line to surpress the output `<matplotlib.lines.Line2D at 0x10c750390>`\n",
    "f = plt.legend()"
   ]
  },
  {
   "cell_type": "code",
   "execution_count": null,
   "metadata": {
    "collapsed": false
   },
   "outputs": [],
   "source": [
    "x = pd.DataFrame( np.random.rand(10), index=pd.date_range('2015-01-01','2015-10-31',freq='m'),columns=['Rets'] )"
   ]
  },
  {
   "cell_type": "code",
   "execution_count": null,
   "metadata": {
    "collapsed": false
   },
   "outputs": [],
   "source": [
    "x.cumsum().plot()\n",
    "plt.title('Cumulative Return')\n",
    "plt.xlabel('Month')\n",
    "plt.ylabel('Return')"
   ]
  },
  {
   "cell_type": "code",
   "execution_count": null,
   "metadata": {
    "collapsed": false
   },
   "outputs": [],
   "source": [
    "x = pd.DataFrame( np.random.rand(10,2), \n",
    "                  index=pd.date_range('2015-01-01','2015-10-31',freq='m'),\n",
    "                  columns=['ARets','BRets'] )"
   ]
  },
  {
   "cell_type": "code",
   "execution_count": null,
   "metadata": {
    "collapsed": false
   },
   "outputs": [],
   "source": [
    "x.cumsum().plot()\n",
    "plt.xlabel('Month')\n",
    "plt.ylabel('Return')\n",
    "plt.title('ARet vs BRet Cumulative Return')"
   ]
  },
  {
   "cell_type": "code",
   "execution_count": null,
   "metadata": {
    "collapsed": true
   },
   "outputs": [],
   "source": [
    "x = pd.DataFrame( np.random.randn(100000) )"
   ]
  },
  {
   "cell_type": "code",
   "execution_count": null,
   "metadata": {
    "collapsed": false
   },
   "outputs": [],
   "source": [
    "# Histogram is a great way to get a distribution of a series. \n",
    "# I.e. if you don't know how a series is distributed, use histogram!\n",
    "# Use ?plt.hist() or ?x.hist() to get more information, or just hit shift-tab while you're typing out the function\n",
    "x.hist()"
   ]
  },
  {
   "cell_type": "code",
   "execution_count": null,
   "metadata": {
    "collapsed": false
   },
   "outputs": [],
   "source": [
    "#Lets go back to a bivariate data frame\n",
    "x = pd.DataFrame( np.random.rand(10,2), \n",
    "                  index=pd.date_range('2015-01-01','2015-10-31',freq='m'),\n",
    "                  columns=['ARets','BRets'] )"
   ]
  },
  {
   "cell_type": "code",
   "execution_count": null,
   "metadata": {
    "collapsed": false
   },
   "outputs": [],
   "source": [
    "# Let's plot 'arets' and 'brets' as points on a plot\n",
    "plt.scatter( x['ARets'], x['BRets'] )\n",
    "plt.xlabel('ARet')\n",
    "plt.ylabel('BRet')\n",
    "plt.legend(['ABRet Points'])"
   ]
  },
  {
   "cell_type": "markdown",
   "metadata": {},
   "source": [
    "# Seaborn\n",
    "\n",
    "Let's see how good the graphs look with `seaborn`. \n",
    "\n",
    "`import seaborn as sb`\n",
    "\n",
    "Once you've imported seaborn, you can just call pyplot functions as is and you'll get prettier plots. In addition, the seaborn package itself has additional plots you can call. Let's rerun the scatter plot to see how much prettier it is."
   ]
  },
  {
   "cell_type": "code",
   "execution_count": null,
   "metadata": {
    "collapsed": true
   },
   "outputs": [],
   "source": [
    "import seaborn as sb"
   ]
  },
  {
   "cell_type": "code",
   "execution_count": null,
   "metadata": {
    "collapsed": false
   },
   "outputs": [],
   "source": [
    "# Let's plot 'arets' and 'brets' as points on a plot\n",
    "plt.scatter( x['ARets'], x['BRets'] )\n",
    "plt.xlabel('ARet')\n",
    "plt.ylabel('BRet')\n",
    "plt.legend(['ABRet Points'])"
   ]
  },
  {
   "cell_type": "markdown",
   "metadata": {},
   "source": [
    "How about for histogram?"
   ]
  },
  {
   "cell_type": "code",
   "execution_count": null,
   "metadata": {
    "collapsed": false
   },
   "outputs": [],
   "source": [
    "x = pd.DataFrame( np.random.randn(100000) )\n",
    "x.hist()"
   ]
  },
  {
   "cell_type": "markdown",
   "metadata": {},
   "source": [
    "We'll try using seaborn more throughout the class, and will have an example later today."
   ]
  },
  {
   "cell_type": "markdown",
   "metadata": {},
   "source": [
    "# Anscombe's Quartet\n",
    "Source: [Wikipedia](https://en.wikipedia.org/wiki/Anscombe's_quartet)\n",
    "\n",
    "To start off with, let's take a look at Anscombe's Quartet. It is a collection of four different datasets, where each dataset has an $x$ and $y$ dimension.\n",
    "\n",
    "Their basic statistics looks very similar, but they're not quite identical."
   ]
  },
  {
   "cell_type": "code",
   "execution_count": null,
   "metadata": {
    "collapsed": true
   },
   "outputs": [],
   "source": [
    "import pandas as pd\n",
    "import numpy as np\n",
    "from matplotlib import pyplot as plt\n",
    "%matplotlib inline"
   ]
  },
  {
   "cell_type": "code",
   "execution_count": null,
   "metadata": {
    "collapsed": false
   },
   "outputs": [],
   "source": [
    "data = pd.DataFrame({'x1': [10.0, 8.0, 13.0, 9.0, 11.0, 14.0, 6.0, 4.0, 12.0, 7.0, 5.0],\n",
    "     'y1': [8.04, 6.95, 7.58, 8.81, 8.33, 9.96, 7.24, 4.26, 10.84, 4.82, 5.68],\n",
    "     'x2': [10.0, 8.0, 13.0, 9.0, 11.0, 14.0, 6.0, 4.0, 12.0, 7.0, 5.0,],\n",
    "     'y2': [9.14, 8.14, 8.74, 8.77, 9.26, 8.10, 6.13, 3.10, 9.13, 7.26, 4.74],\n",
    "     'x3': [10.0, 8.0, 13.0, 9.0, 11.0, 14.0, 6.0, 4.0, 12.0, 7.0, 5.0,],\n",
    "     'y3': [7.46, 6.77, 12.74, 7.11, 7.81, 8.84, 6.08, 5.39, 8.15, 6.42, 5.73],\n",
    "     'x4': [8.0, 8.0, 8.0, 8.0, 8.0, 8.0, 8.0, 19.0, 8.0, 8.0, 8.0],\n",
    "     'y4': [6.58, 5.76, 7.71, 8.84, 8.47, 7.04, 5.25, 12.50, 5.56, 7.91, 6.89]})\n",
    "data # This dataframe contains anscombe's quartet (i.e. (x1,y1), (x2,y2), (x3,y3), (x4,y4) )"
   ]
  },
  {
   "cell_type": "markdown",
   "metadata": {},
   "source": [
    "# Exercise\n",
    "\n",
    "**1) For each of the four datasets (i.e., for $(x_1, y_1)$, for $(x_2, y_2)$, etc), compute some basic statistics:**\n",
    "\n",
    "For $x_i$ and $y_i$, generate:\n",
    "- the mean and the standard deviation\n",
    "- the correlation between $x_i$ and $y_i$. Hint: Use np.corrcoef or the Pandas dataframe function corr()\n",
    "\n",
    "Hint: Create labels of $x_i$ and $y_i$ to be able to index into the dataframe for each $i$. This way, you can subset the columns in the `data` dataframe, and call mean(), std()\n",
    "\n",
    "Hint2: Pandas dataframe calls to mean(), std(), corr(), etc. can be tuple unpacked\n",
    "\n",
    "```\n",
    "df = pd.DataFrame([[0,1],[2,3]], index = [0,1],columns=['A','B'])\n",
    "asum, bsum = df.sum()\n",
    "print asum, bsum\n",
    "```"
   ]
  },
  {
   "cell_type": "code",
   "execution_count": null,
   "metadata": {
    "collapsed": false
   },
   "outputs": [],
   "source": [
    "for i in xrange(1,5):\n",
    "    x,y = \"x\" + str(i), \"y\" + str(i)\n",
    "    # Your code here"
   ]
  },
  {
   "cell_type": "markdown",
   "metadata": {},
   "source": [
    "These data points must be exactly the same..? \n",
    "\n",
    "**2) Generate a scatterplot for each set of $x_i$ and $y_i$.**\n",
    "\n",
    "Hint: Use the \"plt.scatter\" function, passing in array of x, and the array of y you would like to scatterplot."
   ]
  },
  {
   "cell_type": "code",
   "execution_count": null,
   "metadata": {
    "collapsed": false
   },
   "outputs": [],
   "source": [
    "for i in xrange(1,5):\n",
    "    x,y = \"x\"+str(i), \"y\"+str(i)\n",
    "    plt.figure(figsize=(18,4))\n",
    "    plt.subplot(2,2,i-1)\n",
    "    # Your code here"
   ]
  },
  {
   "cell_type": "markdown",
   "metadata": {},
   "source": [
    "**3) Seaborn is a visual package that is built on top of Matplotlib Pyplot. It makes plots look a lot nicer, and has some additional plotting capabilities (for instance heat maps). **\n",
    "\n",
    "If you finish the exercise early, go ahead and install `seaborn`.\n",
    "\n",
    "Go to your terminal, and type in `pip install seaborn`. Afterwards, try importing seaborn ala:\n",
    "\n",
    "`import seaborn`"
   ]
  },
  {
   "cell_type": "code",
   "execution_count": null,
   "metadata": {
    "collapsed": true
   },
   "outputs": [],
   "source": []
  },
  {
   "cell_type": "markdown",
   "metadata": {},
   "source": [
    "# Importance of Good Visualization\n",
    "\n",
    "We've seen how important it is to visualize our data. Even when data aggregate statistics are the same, they could be vastly different! Now, let's try plotting out some different plots to get ourselves familiar with the various plot types."
   ]
  },
  {
   "cell_type": "markdown",
   "metadata": {},
   "source": [
    "**4) Plot the function $f(x) = x^3 - 2x^2 + 4$ on the domain $[-5, 5]$. You can plot at each point by using `range`, or use np.lin_space to help generate points**"
   ]
  },
  {
   "cell_type": "code",
   "execution_count": null,
   "metadata": {
    "collapsed": false
   },
   "outputs": [],
   "source": []
  },
  {
   "cell_type": "markdown",
   "metadata": {},
   "source": [
    "Let's get some arbitrary dataset (see below)"
   ]
  },
  {
   "cell_type": "code",
   "execution_count": null,
   "metadata": {
    "collapsed": false
   },
   "outputs": [],
   "source": [
    "import numpy as np  # import numpy -- we will cover this later\n",
    "import pandas as pd\n",
    "N = 1000  # number of dots\n",
    "x = np.random.random(N)  # get N random values between 0 and 1\n",
    "df = pd.DataFrame(dict(\n",
    "        A=x,\n",
    "        B=func(x),\n",
    "        C=func(x) / func(x - 1)))\n",
    "df.head()"
   ]
  },
  {
   "cell_type": "markdown",
   "metadata": {},
   "source": [
    "**Scatterplot A against B, A against C, and B against C**"
   ]
  },
  {
   "cell_type": "code",
   "execution_count": null,
   "metadata": {
    "collapsed": false
   },
   "outputs": [],
   "source": [
    "# Scatter of A vs B here\n"
   ]
  },
  {
   "cell_type": "code",
   "execution_count": null,
   "metadata": {
    "collapsed": false
   },
   "outputs": [],
   "source": [
    "# Scatter of A vs C here\n"
   ]
  },
  {
   "cell_type": "code",
   "execution_count": null,
   "metadata": {
    "collapsed": false
   },
   "outputs": [],
   "source": [
    "# Scatter of B vs C here\n"
   ]
  },
  {
   "cell_type": "markdown",
   "metadata": {},
   "source": [
    "**Plot A against B, and make the size of the dots correspond with 100 * C. Hint: plt.scatter can take in an array for the `s` argument for indicating size**"
   ]
  },
  {
   "cell_type": "code",
   "execution_count": null,
   "metadata": {
    "collapsed": false
   },
   "outputs": [],
   "source": []
  },
  {
   "cell_type": "markdown",
   "metadata": {},
   "source": [
    "**Plot B against C, and make the _color_ of the dots correspond with A. (This should result in a grey scale.)**\n"
   ]
  },
  {
   "cell_type": "code",
   "execution_count": null,
   "metadata": {
    "collapsed": false
   },
   "outputs": [],
   "source": []
  },
  {
   "cell_type": "markdown",
   "metadata": {
    "collapsed": true
   },
   "source": [
    "## Further reading"
   ]
  },
  {
   "cell_type": "markdown",
   "metadata": {},
   "source": [
    "- <b>Pandas</b>:\n",
    "<a href=\"http://pandas.pydata.org/pandas-docs/stable/10min.html\" target=\"_blank\">10 Minutes to Pandas</a> and\n",
    "<a href=\"http://pandas.pydata.org/pandas-docs/stable/tutorials.html\" target=\"_blank\">tutorials</a>\n",
    "of the official documentation<br>\n",
    "Also recommended is the book <i>Python for Data Analysis</i>, O'Reilly Media.\n",
    "- <b>Matplotlib pyplot</b>:\n",
    "<a href=\"http://matplotlib.org/users/pyplot_tutorial.html\" target=\"_blank\">tutorial</a> \n",
    "of the official documentation\n",
    "- <b>Seaborn</b>:\n",
    "<a href=\"http://stanford.edu/~mwaskom/software/seaborn/\" target=\"_blank\">website</a>\n",
    "- <b>Vincent</b>:\n",
    "<a href=\"https://vincent.readthedocs.org/en/latest/\" target=\"_blank\">website</a>"
   ]
  }
 ],
 "metadata": {
  "kernelspec": {
   "display_name": "Python 2",
   "language": "python",
   "name": "python2"
  },
  "language_info": {
   "codemirror_mode": {
    "name": "ipython",
    "version": 2
   },
   "file_extension": ".py",
   "mimetype": "text/x-python",
   "name": "python",
   "nbconvert_exporter": "python",
   "pygments_lexer": "ipython2",
   "version": "2.7.10"
  }
 },
 "nbformat": 4,
 "nbformat_minor": 0
}
