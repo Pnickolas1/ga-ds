{
 "cells": [
  {
   "cell_type": "markdown",
   "metadata": {},
   "source": [
    "# NBA 2014-2015 Season Player Data\n",
    "\n",
    "## [Time to play Moneyball](https://www.youtube.com/watch?v=yGf6LNWY9AI)\n",
    "\n",
    "Let's try out a dataset on our own. I've grabbed end of year stats for the 2015 season for the players in the NBA.\n",
    "\n",
    "The dataset originally comes from [Basketball Reference](http://www.basketball-reference.com/leagues/NBA_2015_totals.html?lid=header_seasons#totals::none). There's been nearly 0 preprocessing done, to simulate what would happen in the real world.\n",
    "\n",
    "**Column Names:**\n",
    "\n",
    "```\n",
    "    Rk: Rank (No meaning)\n",
    "    Player: Player name\n",
    "    Pos: Position (PF - power forward, SG - shooting guard, C - Center,  SF - small forward, PG - point guard)\n",
    "    Age: age\n",
    "    Tm: Team\n",
    "    G: Number games played\n",
    "    GS: Games started\n",
    "    MP: Minutes Played\n",
    "    FG: Field goals Made\n",
    "    FGA: Field goal attempts\n",
    "   *FG%: Field goal percentage\n",
    "    3P: 3 Point field goals made\n",
    "    3PA: 3 Point field goal attempts\n",
    "   *3P%: 3 Point field goal percentage\n",
    "    2P: 2 Point field goals made\n",
    "    2PA: 2 Point field goal attempts\n",
    "    2P%:  2 Point field goal percentage\n",
    "    eFG%: Effective Field goal percentage, takes 3 vs 2 point into account\n",
    "    FT: Free throws made\n",
    "    FTA: Free throw attempts\n",
    "   *FT%: Free throw percentage\n",
    "    ORB: Offensive rebounds\n",
    "    DRB: Defensive rebounds\n",
    "   *TRB: Total Rebounds\n",
    "   *AST: Assists\n",
    "   *STL: Steals\n",
    "   *BLK: Blocks\n",
    "   *TOV: Turnovers\n",
    "    PF: Personal Fouls\n",
    "   *PTS: points\n",
    "```\n",
    "    \n",
    "We'll go over:\n",
    "* Loading the data\n",
    "* Preprocessing the data\n",
    "* Looking at some basic stats\n",
    "* Plotting some of these stats for intuition\n",
    "* Running K Nearest Neighbors on the data\n"
   ]
  },
  {
   "cell_type": "code",
   "execution_count": null,
   "metadata": {
    "collapsed": false
   },
   "outputs": [],
   "source": [
    "# Import the packages we are going to use\n",
    "import pandas as pd\n",
    "import numpy as np\n",
    "import matplotlib.pyplot as plt\n",
    "%matplotlib inline"
   ]
  },
  {
   "cell_type": "code",
   "execution_count": null,
   "metadata": {
    "collapsed": false
   },
   "outputs": [],
   "source": [
    "# Read in the dataset from the repo (Update your repo if you don't see this dataset)\n",
    "bb = pd.read_csv('leagues_NBA_2015_totals_totals.csv')"
   ]
  },
  {
   "cell_type": "code",
   "execution_count": null,
   "metadata": {
    "collapsed": false
   },
   "outputs": [],
   "source": [
    "# As always, first thing is to look at the head\n",
    "bb.head()"
   ]
  },
  {
   "cell_type": "code",
   "execution_count": null,
   "metadata": {
    "collapsed": false
   },
   "outputs": [],
   "source": [
    "# What are all the columns?\n",
    "bb.columns"
   ]
  },
  {
   "cell_type": "code",
   "execution_count": null,
   "metadata": {
    "collapsed": false
   },
   "outputs": [],
   "source": [
    "# Set the max number of columns to display\n",
    "pd.set_option('display.max_columns', 35)\n",
    "bb.head()"
   ]
  },
  {
   "cell_type": "code",
   "execution_count": null,
   "metadata": {
    "collapsed": false
   },
   "outputs": [],
   "source": [
    "# Great, so we know there are 675 rows and 30 columns\n",
    "# In addition, there seem to be nulls in some of the columns (i.e FG%)\n",
    "bb.info()"
   ]
  },
  {
   "cell_type": "code",
   "execution_count": null,
   "metadata": {
    "collapsed": false
   },
   "outputs": [],
   "source": [
    "# Let's run our descriptive tool...\n",
    "bb.describe()"
   ]
  },
  {
   "cell_type": "markdown",
   "metadata": {},
   "source": [
    "What the heck? The top occuring \"Player\" is \"Player\"? What is going on..."
   ]
  },
  {
   "cell_type": "code",
   "execution_count": null,
   "metadata": {
    "collapsed": false
   },
   "outputs": [],
   "source": [
    "bb['Player'].value_counts() #Let's look at the player column only"
   ]
  },
  {
   "cell_type": "code",
   "execution_count": null,
   "metadata": {
    "collapsed": false
   },
   "outputs": [],
   "source": [
    "# Hmm.. lets grab a few rows where the Player name is \"Player\"\n",
    "bb[ bb['Player'] == 'Player' ].head()"
   ]
  },
  {
   "cell_type": "code",
   "execution_count": null,
   "metadata": {
    "collapsed": false
   },
   "outputs": [],
   "source": [
    "#Another way to do this.\n",
    "bb.iloc[ np.where(bb['Player'] == 'Player') ].head()"
   ]
  },
  {
   "cell_type": "markdown",
   "metadata": {},
   "source": [
    "I see. It seems the columns were included multiple times in the dataset. Let's go ahead and delete them."
   ]
  },
  {
   "cell_type": "code",
   "execution_count": null,
   "metadata": {
    "collapsed": false
   },
   "outputs": [],
   "source": [
    "# bb = bb.drop(  bb[ bb['Player'] == 'Player' ].index ) #One way, using 'drop'\n",
    "bb = bb[ bb.Player != 'Player' ] #Cleaner way"
   ]
  },
  {
   "cell_type": "code",
   "execution_count": null,
   "metadata": {
    "collapsed": false
   },
   "outputs": [],
   "source": [
    "bb.describe()"
   ]
  },
  {
   "cell_type": "code",
   "execution_count": null,
   "metadata": {
    "collapsed": false
   },
   "outputs": [],
   "source": [
    "# Let's choose rows where player is Tayshaun Prince\n",
    "bb[ bb.Player == 'Tayshaun Prince' ]"
   ]
  },
  {
   "cell_type": "markdown",
   "metadata": {},
   "source": [
    "Ok, so this guy's been traded around a bit.  But it doesn't make sense.  What the heck team is \"TOT\" ?\n",
    "After looking at this guy's wikipedia, I see he's played for Memphis, Boston, and Detroit. Also, if you add up the number of games he's played for MEM + BOS + DET, it comes out to 58 exactly. So then, there isn't really a \"TOT\" team, its really just the total stats for that year for him."
   ]
  },
  {
   "cell_type": "code",
   "execution_count": null,
   "metadata": {
    "collapsed": false
   },
   "outputs": [],
   "source": [
    "# So how many times have players been under a 'TOT' team (i.e. how many players have been traded mid year)\n",
    "# If its a low number, then maybe get rid of entries with team == TOT\n",
    "bb.Tm.value_counts()"
   ]
  },
  {
   "cell_type": "code",
   "execution_count": null,
   "metadata": {
    "collapsed": false
   },
   "outputs": [],
   "source": [
    "# Oh, thats quite a lot of players. Lets sort them by #Points to see if this is important or not\n",
    "bb[ bb['Tm'] == 'TOT' ].sort('PTS').head()"
   ]
  },
  {
   "cell_type": "markdown",
   "metadata": {},
   "source": [
    "Wait. what? We sorted by PTS, but the order seems wrong... What is the type of PTS?"
   ]
  },
  {
   "cell_type": "code",
   "execution_count": null,
   "metadata": {
    "collapsed": false
   },
   "outputs": [],
   "source": [
    "bb.PTS.head()"
   ]
  },
  {
   "cell_type": "markdown",
   "metadata": {},
   "source": [
    "Okay, so it seems these integers got string representations. Let's check the values to see if there's any crazy values that keep us from converting to ints"
   ]
  },
  {
   "cell_type": "code",
   "execution_count": null,
   "metadata": {
    "collapsed": false
   },
   "outputs": [],
   "source": [
    "bb.PTS.values"
   ]
  },
  {
   "cell_type": "code",
   "execution_count": null,
   "metadata": {
    "collapsed": false
   },
   "outputs": [],
   "source": [
    "bb.PTS = np.int64( bb.PTS )"
   ]
  },
  {
   "cell_type": "code",
   "execution_count": null,
   "metadata": {
    "collapsed": false
   },
   "outputs": [],
   "source": [
    "# Ok, lets' retry sorting by points. Let's do descending now, since that makes more sense\n",
    "bb[ bb['Tm'] == 'TOT' ].sort('PTS',ascending=False).head()"
   ]
  },
  {
   "cell_type": "code",
   "execution_count": null,
   "metadata": {
    "collapsed": false
   },
   "outputs": [],
   "source": [
    "#Lets see what the data looks like now\n",
    "bb.describe()"
   ]
  },
  {
   "cell_type": "markdown",
   "metadata": {},
   "source": [
    "What the heck? Ah, its running describe() on the numerical columns. Let's go ahead and force dtypes on these columns"
   ]
  },
  {
   "cell_type": "code",
   "execution_count": null,
   "metadata": {
    "collapsed": false
   },
   "outputs": [],
   "source": [
    "bb.columns"
   ]
  },
  {
   "cell_type": "code",
   "execution_count": null,
   "metadata": {
    "collapsed": false
   },
   "outputs": [],
   "source": [
    "intCols = ['Age','G','GS','MP','FG','FGA','3P','3PA',\n",
    "           '2P','2PA','FT','FTA','ORB','DRB','TRB',\n",
    "           'AST','STL','BLK','TOV','PF','PTS']\n",
    "\n",
    "for col in intCols:\n",
    "    bb[col] = np.int64( bb[col] )\n",
    "        "
   ]
  },
  {
   "cell_type": "code",
   "execution_count": null,
   "metadata": {
    "collapsed": false
   },
   "outputs": [],
   "source": [
    "fltCols = ['FG%','3P.1','2P.1','eFG%','FT%',]\n",
    "for col in fltCols:\n",
    "    bb[col] = np.float64( bb[col] )"
   ]
  },
  {
   "cell_type": "code",
   "execution_count": null,
   "metadata": {
    "collapsed": false
   },
   "outputs": [],
   "source": [
    "#lets run describe again, see if this makes sense\n",
    "bb.describe()"
   ]
  },
  {
   "cell_type": "code",
   "execution_count": null,
   "metadata": {
    "collapsed": false
   },
   "outputs": [],
   "source": [
    "#Lets see if for instance, our float conversion makes sense. Does the average player have roughly 50% fg?\n",
    "bb.hist('FG%',bins=20)"
   ]
  },
  {
   "cell_type": "code",
   "execution_count": null,
   "metadata": {
    "collapsed": false
   },
   "outputs": [],
   "source": [
    "#Ah, what about free throw percentages?\n",
    "bb.hist('FT%',bins=20) "
   ]
  },
  {
   "cell_type": "code",
   "execution_count": null,
   "metadata": {
    "collapsed": false
   },
   "outputs": [],
   "source": [
    "# Let's also dump the \"Rk\" column since its meaningless\n",
    "bb = bb.drop('Rk',axis=1)"
   ]
  },
  {
   "cell_type": "markdown",
   "metadata": {},
   "source": [
    "Alright, we've gotten this column type nonsense out of the way. Let's go back to our original issue of players having been under multiple teams"
   ]
  },
  {
   "cell_type": "code",
   "execution_count": null,
   "metadata": {
    "collapsed": false
   },
   "outputs": [],
   "source": [
    "#Print out the example of Tayshaun Prince to help guide us in the right way\n",
    "bb[ bb.Player == 'Tayshaun Prince' ]"
   ]
  },
  {
   "cell_type": "markdown",
   "metadata": {},
   "source": [
    "**What can we do about handling players under multiple teams? At the end of the day, we just want one row per player.** \n",
    "\n",
    "**Possible Options:**\n",
    "\n",
    "1. Only keep the row that the player ended the season at. Delete the others. (Don't have this data though!)\n",
    "2. Only keep the row that the player played the most games on. Delete TOT and the other rows\n",
    "3. Only keep TOT row. Delete the other rows. Keep the team name.\n",
    "4. Only keep TOT row. Delete the other rows. Rename \"TOT\" to a different team name.\n",
    "\n",
    "\n",
    "Our new rule will be, For any player that has been under 'TOT', we will do a few things:\n",
    "* Keep the TOT row, since we want to get a player's entire stats.\n",
    "* Rename the team name to the team name under which he's played the most games\n",
    "* Delete the other rows.\n",
    "* Is this the best way? Maybe, maybe not, but it seems reasonable"
   ]
  },
  {
   "cell_type": "code",
   "execution_count": null,
   "metadata": {
    "collapsed": false
   },
   "outputs": [],
   "source": [
    "# First, lets sort to make it more clear\n",
    "bb = bb.sort('Player')\n",
    "bb.head(10)"
   ]
  },
  {
   "cell_type": "markdown",
   "metadata": {},
   "source": [
    "1. Okay. So our game plan is this. For each duplicated player, we're going to grab the row indexes where he exists.\n",
    "\n",
    "2. Then we will look for the indices where his team is not TOT, and he's played the max games in. \n",
    "\n",
    "3. Next, we'll delete the rows for where Tm does not equal TOT. \n",
    "\n",
    "4. Finally, we'll rename the Tm to the max_game_team."
   ]
  },
  {
   "cell_type": "code",
   "execution_count": null,
   "metadata": {
    "collapsed": false
   },
   "outputs": [],
   "source": [
    "# This of course requires that we have UNIQUE indexes! Let's check if theres any duplicated index labels\n",
    "np.any(bb.index.duplicated())"
   ]
  },
  {
   "cell_type": "code",
   "execution_count": null,
   "metadata": {
    "collapsed": false
   },
   "outputs": [],
   "source": [
    "# Find out the unique names of the players with multiple rows\n",
    "whichDup = bb['Player'].duplicated()\n",
    "multPlayers = bb['Player'][whichDup].unique()\n",
    "multPlayers"
   ]
  },
  {
   "cell_type": "code",
   "execution_count": null,
   "metadata": {
    "collapsed": false
   },
   "outputs": [],
   "source": [
    "#Sample code of what I did to walk through deleting and renaming for a single instance\n",
    "\n",
    "player = multPlayers[0]\n",
    "print player, '\\n'\n",
    "print bb[ bb.Player == player ]\n",
    "nonTotIdx = bb[ (bb.Player == player) & (bb.Tm != 'TOT') ].index\n",
    "totIdx    = bb[ (bb.Player == player) & (bb.Tm == 'TOT') ].index\n",
    "print nonTotIdx, totIdx\n",
    "\n",
    "maxGameTm = bb['Tm'][bb.ix[ nonTotIdx]['G'].idxmax()]\n",
    "print maxGameTm\n",
    "\n",
    "# The following would be to assign the team name to TOT, and drop the other rows\n",
    "#bb.ix[ totIdx,'Tm' ] = maxGameTm\n",
    "#bb = bb.drop(nonTotIdx,axis=0)\n"
   ]
  },
  {
   "cell_type": "code",
   "execution_count": null,
   "metadata": {
    "collapsed": false
   },
   "outputs": [],
   "source": [
    "#Real code we will use to automate this process\n",
    "for player in multPlayers:\n",
    "    nonTotIdx = bb[ (bb.Player == player) & (bb.Tm != 'TOT') ].index\n",
    "    totIdx    = bb[ (bb.Player == player) & (bb.Tm == 'TOT') ].index\n",
    "    maxGameTm = bb['Tm'][ bb.ix[ nonTotIdx]['G'].idxmax() ]\n",
    "    bb.ix[ totIdx,'Tm' ] = maxGameTm\n",
    "    bb = bb.drop(nonTotIdx,axis=0)\n",
    "\n",
    "bb.head()"
   ]
  },
  {
   "cell_type": "markdown",
   "metadata": {},
   "source": [
    "--------\n",
    "# Assist to Turnover Metric Creation\n",
    "\n",
    "Alright, I think we're starting to get somewhere. The data looks roughly cleaned. Let's get some interesting metrics here. There's a metric of **`assists to turnovers`**.\n",
    "\n",
    "This measurement is especially effective at measuring ball control, because a player who distributes the ball and gains assists without turning the ball over will have a *high ratio*. The opposite is true of players who turn the ball over more than they distribute it to their teammates for successful scoring opportunities.\n",
    "\n",
    "Let's calculate that where:\n",
    "```\n",
    "ATT = AST / TOV\n",
    "```"
   ]
  },
  {
   "cell_type": "markdown",
   "metadata": {},
   "source": [
    "## Exercise\n",
    "\n",
    "IF you have not already, run the code blocks up until this point.\n",
    "\n",
    "**1) Calculate the ATT (Assist to turnover) Score and set it to a column of bb. ATT = AST / TOV.**"
   ]
  },
  {
   "cell_type": "code",
   "execution_count": null,
   "metadata": {
    "collapsed": false
   },
   "outputs": [],
   "source": [
    "bb['ATT'] = bb['AST'] / bb['TOV']"
   ]
  },
  {
   "cell_type": "markdown",
   "metadata": {},
   "source": [
    "**2) Great. Let's take a look at who's got some great ball handling skills. Subset bb on the following columns: 'Player','AST','TOV','ATT', and sort the resulting dataframe by ATT descending**"
   ]
  },
  {
   "cell_type": "code",
   "execution_count": null,
   "metadata": {
    "collapsed": false
   },
   "outputs": [],
   "source": [
    "# Uh oh! Ronny Turiaf's ATT is off the charts!!\n",
    "# Seth Curry is even better than his brother, Steph\n",
    "bb[ ['Player','AST','TOV','ATT'] ].sort('ATT',ascending=False).head(10)"
   ]
  },
  {
   "cell_type": "markdown",
   "metadata": {},
   "source": [
    "**3) There's some slight issues in our calc. If they have never turned over the ball, their ratio is infinite**\n",
    "\n",
    "**Question:** If their ratio is infinity, are they the greatest ankle breakers in history...or just noobs and haven't played many games?\n",
    "\n",
    "**Answer:** They are Noobs. We should replace those values with np.nan\n",
    "\n",
    "You can replace values such as np.inf in a specific column through the replace function\n",
    "\n",
    "bb['SomeColumn'] = bb['SomeColumn'].replace( ??? )\n",
    "\n",
    "**Go ahead and replace all inf or -inf values in bb['ATT'] with np.nan**"
   ]
  },
  {
   "cell_type": "code",
   "execution_count": null,
   "metadata": {
    "collapsed": false
   },
   "outputs": [],
   "source": [
    "bb['ATT'] = bb['ATT'].replace([np.inf, -np.inf],np.nan)"
   ]
  },
  {
   "cell_type": "markdown",
   "metadata": {},
   "source": [
    "**4) Again, let's take a look at who's got some great ball handling skills. Subset bb on the following columns: 'Player','AST','TOV','ATT', and sort the resulting dataframe by ATT descending. Ensure that there are no nans or infs in the printed out dataframe**"
   ]
  },
  {
   "cell_type": "code",
   "execution_count": null,
   "metadata": {
    "collapsed": false
   },
   "outputs": [],
   "source": [
    "bb[ ['Player','AST','TOV','ATT'] ].sort('ATT',ascending=False).head(10)"
   ]
  },
  {
   "cell_type": "markdown",
   "metadata": {},
   "source": [
    "Ok, this is better, but we still get some rnaomd guys like Gal Mekel. How should we handle the data so that ATT is calculated over 'valid' players (i.e. guys that have played enough, or have enough points, etc.) What is the limit? At what point should we start considering a player for having a valid AST/TOV ratio? \n",
    "\n",
    "**Possible Options**\n",
    "* Maybe we can compare the AST/TOV ratio to how many games they've played\n",
    "* Get a quantile of games they've played. Subset on players playing over xx\n",
    "* *Choose a hard cutoff of minimum assists* **<-- Let's choose 200 as the minimum cutoff for assists**\n",
    "* Choose a quantile cutoff of minimum assists\n",
    "\n",
    "http://www.sportingcharts.com/nba/stats/player-assists-to-turnover-ratio/2014/\n",
    "\n",
    "**5) For any player who has less than 200 assists in the season, set their ATT to np.nan. Repeat question 4, and compare against the stats on the website**"
   ]
  },
  {
   "cell_type": "code",
   "execution_count": null,
   "metadata": {
    "collapsed": false
   },
   "outputs": [],
   "source": [
    "#Pretty close!\n",
    "bb.ix[ bb.AST < 200, 'ATT'] = np.nan\n",
    "x[['Player','AST','TOV','ATT']].sort('ATT',ascending=False).head(10)"
   ]
  },
  {
   "cell_type": "markdown",
   "metadata": {},
   "source": [
    "**6) Create a histogram of ATT using 10 bins. Set the xlabel to 'ATT' using plt.xlabel, and the ylabel to 'Count' using plt.ylabel. Set the title as 'ATT Histogram' using plt.title**\n",
    "\n",
    "Note: You can either create histograms directly from Pandas dataframes, or using plt.histogram and pass in the dataframe"
   ]
  },
  {
   "cell_type": "code",
   "execution_count": null,
   "metadata": {
    "collapsed": false
   },
   "outputs": [],
   "source": [
    "bb.ATT.hist(bins=10)\n",
    "plt.xlabel('ATT')\n",
    "plt.ylabel('Count')\n",
    "plt.title('ATT Histogram')"
   ]
  },
  {
   "cell_type": "code",
   "execution_count": null,
   "metadata": {
    "collapsed": false
   },
   "outputs": [],
   "source": [
    "bb[ bb.ATT < 1 ] # https://www.youtube.com/watch?v=28xEJgN_Fok Goes to show can't always believe stats"
   ]
  },
  {
   "cell_type": "markdown",
   "metadata": {},
   "source": [
    "---\n",
    "# Metric Creation - Eddy Curry Line\n",
    "The **Eddy Curry Line** was originally established to put a spotlight on how truly anemic Curry's overall fantasy line is. The standard: a player must average more turnovers than assists, steals, and blocks combined – in order to qualify, a player must have appeared in at least half of his team's games and averaged at least 25 minutes of playing time.\n",
    "\n",
    "```\n",
    "ECL (Eddy Curry Line) = (Assists + Steals + Blocks) / Turnovers\n",
    "\n",
    "where:\n",
    "* ECL is only calculated for players averaging 25 minutes PER game\n",
    "* We will ignore the team condition for now\n",
    "* If a player has less than 25 minutes PER game, set his ECL to nan\n",
    "```\n",
    "\n",
    "Let's calculate the Eddy Curry Line for everyone. "
   ]
  },
  {
   "cell_type": "code",
   "execution_count": null,
   "metadata": {
    "collapsed": false
   },
   "outputs": [],
   "source": [
    "bb['ECL'] = bb[ ['AST','STL','BLK'] ].sum(axis=1) / bb.TOV\n",
    "bb.ix[ (bb.MP / bb.G) < 25, 'ECL'] = np.nan"
   ]
  },
  {
   "cell_type": "code",
   "execution_count": null,
   "metadata": {
    "collapsed": false
   },
   "outputs": [],
   "source": [
    "bb[['Player','TOV','AST','STL','BLK','ECL']].sort('ECL').head()"
   ]
  },
  {
   "cell_type": "code",
   "execution_count": null,
   "metadata": {
    "collapsed": false
   },
   "outputs": [],
   "source": [
    "bb['ECL'].hist(bins=20)"
   ]
  },
  {
   "cell_type": "code",
   "execution_count": null,
   "metadata": {
    "collapsed": false
   },
   "outputs": [],
   "source": [
    "# Let's see who has ECL less than 1 (Has more turnovers than assists, steals, blocks combined)\n",
    "bb[ bb.ECL < 1 ]"
   ]
  },
  {
   "cell_type": "markdown",
   "metadata": {},
   "source": [
    "According to professional roommates, Enes Kanter is \"a terrible player.\" That said, Utah traded him to OKC as part of a $70 million deal. I guess OKC didn't check his ECL.\n",
    "\n",
    "Let's see some more low ECL's"
   ]
  },
  {
   "cell_type": "code",
   "execution_count": null,
   "metadata": {
    "collapsed": false
   },
   "outputs": [],
   "source": [
    "bb[ bb.ECL < 1.5 ]"
   ]
  },
  {
   "cell_type": "markdown",
   "metadata": {},
   "source": [
    "Huh, all centers. Is there a pattern here?"
   ]
  },
  {
   "cell_type": "code",
   "execution_count": null,
   "metadata": {
    "collapsed": false
   },
   "outputs": [],
   "source": [
    "grouped = bb.groupby('Pos')\n",
    "grouped['ECL'].agg( ['mean','std','min','max','count'] )\n",
    "\n",
    "#If you wanted these agg stats on all of the columns within each group\n",
    "#grouped.agg( ['mean','std','min','max','count'] ) "
   ]
  },
  {
   "cell_type": "code",
   "execution_count": null,
   "metadata": {
    "collapsed": false
   },
   "outputs": [],
   "source": [
    "# Hmm lets see how many players are actually in these mix positions\n",
    "bb.Pos.value_counts()\n",
    "\n",
    "#Not that many, lets see who these players are\n",
    "bb[ ~bb.Pos.isin(['C','PF','PG','SF','SG'] )]"
   ]
  },
  {
   "cell_type": "code",
   "execution_count": null,
   "metadata": {
    "collapsed": false
   },
   "outputs": [],
   "source": [
    "# We could have performed a process similar to above (when choosing the team other than TOT)\n",
    "# But for now, lets just only subset to dataframe to playeres in the main 5 positions\n",
    "bb = bb[ bb.Pos.isin(['C','PF','PG','SF','SG']) ]"
   ]
  },
  {
   "cell_type": "code",
   "execution_count": null,
   "metadata": {
    "collapsed": false
   },
   "outputs": [],
   "source": [
    "# Let's take a look at the core positions\n",
    "grouped = bb.groupby('Pos')\n",
    "grouped['ECL'].agg( ['mean','std','min','max','count'] )"
   ]
  },
  {
   "cell_type": "markdown",
   "metadata": {},
   "source": [
    "Looking at a bunch of numbers doesnt help me too much. How about a box plot? \n",
    "\n",
    "\n",
    "<img src=\"http://i.stack.imgur.com/ZN8N6.png\" style=\"\"/ align=left>\n"
   ]
  },
  {
   "cell_type": "code",
   "execution_count": null,
   "metadata": {
    "collapsed": false
   },
   "outputs": [],
   "source": [
    "# Much more clear!\n",
    "f = bb[ bb.Pos.isin( ['C','PF','PG','SF','SG'])].boxplot('ECL',by='Pos')"
   ]
  },
  {
   "cell_type": "markdown",
   "metadata": {},
   "source": [
    "This tells us something! It's harder to get a good Center than it is to get a good Small Forward or Shooting Guard.\n",
    "\n",
    "Why? There's such a small spread in Eddy Cury Lines for small forwards or shooting guards, whereas centers have a much larger spread. i.e. General Managers spend a good amount of attention looking for good centers\n",
    "\n",
    "\n",
    "<img src=\"https://espnfivethirtyeight.files.wordpress.com/2015/06/paine-bradshaw-nba-draft-model.png?w=610&h=1189\" style=\"\"/ align=left>\n"
   ]
  },
  {
   "cell_type": "markdown",
   "metadata": {
    "collapsed": true
   },
   "source": [
    "------------\n",
    "# Metric Creation - 3 Point Efficiency\n",
    "\n",
    "3 Point Efficiency is also a heavily utilized metric. \n",
    "\n",
    "Comparing the shot volume vs. shot % gives us an indication of shot chuckers and shot callers.\n",
    "\n",
    "Let's generate a scatter of 3PA vs 3P.1 (3 point attempts vs. 3 point %)"
   ]
  },
  {
   "cell_type": "code",
   "execution_count": null,
   "metadata": {
    "collapsed": false
   },
   "outputs": [],
   "source": [
    "f =plt.scatter( bb['3PA'], bb['3P.1'],alpha=.5)"
   ]
  },
  {
   "cell_type": "markdown",
   "metadata": {},
   "source": [
    "Unfortunately, it's hard to get a good idea of if theres any shape to this data. Too many guys have made 0 or 1 attempts, have have some efficiency. Let's try to filter out guys who have attempted less than X shots."
   ]
  },
  {
   "cell_type": "code",
   "execution_count": null,
   "metadata": {
    "collapsed": false
   },
   "outputs": [],
   "source": [
    "shot_attempt_q = bb['3PA'].quantile( q = np.linspace(0,1,11) )\n",
    "shot_attempt_q"
   ]
  },
  {
   "cell_type": "code",
   "execution_count": null,
   "metadata": {
    "collapsed": false
   },
   "outputs": [],
   "source": [
    "# Going to subset on players who have attempted at least 28.2 shots (roughly 60% of players have shot more than 28.2 3 pointers)\n",
    "\n",
    "bb_tmp = bb[ bb['3PA'] > shot_attempt_q[0.4] ]\n",
    "plt.scatter( bb_tmp['3PA'], bb_tmp['3P.1'],alpha=.5)"
   ]
  },
  {
   "cell_type": "markdown",
   "metadata": {},
   "source": [
    "Hm, I wonder if certain positions are more efficient 3 point shooters? What if we gave a single color dot to each player type in the scatter?\n",
    "\n",
    "Let's get some colors in here to help visualize better. \n",
    "\n",
    "1. Let's see how many colors we'll need (i.e. how many types of positions are there?\n",
    "2. Let's define a color for each position. [Rainbow of colors](http://stackoverflow.com/questions/22408237/named-colors-in-matplotlib)\n",
    "3. Then, we'll create a mapping between 'Position' and 'color' name\n",
    "4. Finally, for each player position, we'll create a scatter, using the specific color for that position"
   ]
  },
  {
   "cell_type": "code",
   "execution_count": null,
   "metadata": {
    "collapsed": false
   },
   "outputs": [],
   "source": [
    "# We've already gotten rid of the 'junk' multiple-position rows\n",
    "bb.Pos.value_counts() "
   ]
  },
  {
   "cell_type": "code",
   "execution_count": null,
   "metadata": {
    "collapsed": false
   },
   "outputs": [],
   "source": [
    "# So many colors to choose from! http://stackoverflow.com/questions/22408237/named-colors-in-matplotlib\n",
    "colors = pd.Series( ['r','g','b','y','c'], index=['SG','PG','SF','PF','C'])\n",
    "colors"
   ]
  },
  {
   "cell_type": "code",
   "execution_count": null,
   "metadata": {
    "collapsed": false
   },
   "outputs": [],
   "source": [
    "shot_attempt_q = bb['3PA'].quantile( q = np.linspace(0,1,11) )\n",
    "\n",
    "for pos in bb.Pos.unique():\n",
    "    bb_tmp = bb[ (bb['3PA'] > shot_attempt_q[0.4]) & (bb.Pos == pos) ]\n",
    "    plt.scatter( bb_tmp['3PA'], bb_tmp['3P.1'], c = colors[pos],label=pos,s=50,alpha=.5)\n",
    "    plt.xlabel('3 Point Attempted'), plt.ylabel('3 Point %')\n",
    "\n",
    "f = plt.legend(bbox_to_anchor=(0, 1), bbox_transform=plt.gcf().transFigure)"
   ]
  },
  {
   "cell_type": "code",
   "execution_count": null,
   "metadata": {
    "collapsed": false
   },
   "outputs": [],
   "source": [
    "#Let's see who some of these top guys are\n",
    "bb[ (bb['3PA'] > 400) & (bb['3P.1'] > .4) ] "
   ]
  },
  {
   "cell_type": "code",
   "execution_count": null,
   "metadata": {
    "collapsed": false
   },
   "outputs": [],
   "source": [
    "# Let's make our plot prettier by adding labels\n",
    "# Requires the labels, as well as scatter positions \n",
    "labeldf = bb2[ (bb2['3PA'] > 400) & (bb2['3P.1'] > .4) ]\n",
    "labels, x, y, labelcolors = labeldf['Player'], labeldf['3PA'], labeldf['3P.1'], colors[ labeldf['Pos'] ]"
   ]
  },
  {
   "cell_type": "code",
   "execution_count": null,
   "metadata": {
    "collapsed": false
   },
   "outputs": [],
   "source": [
    "#Lets annotate a single player having 3PA > 400 and 3P% > 40%\n",
    "\n",
    "for pos in bb2.Pos.unique():\n",
    "    bb3 = bb2[ bb2.Pos == pos ]\n",
    "    plt.scatter( bb3['3PA'], bb3['3P.1'], c = colors[pos],label=pos,s=50,alpha=.5)\n",
    "    plt.xlabel('3 Point Attempted'), plt.ylabel('3 Point %')\n",
    "\n",
    "f = plt.legend(bbox_to_anchor=(0, 1), bbox_transform=plt.gcf().transFigure)\n",
    "\n",
    "plt.annotate(labels.iloc[0], \n",
    "             xy = (x.iloc[0],y.iloc[0]), \n",
    "             xytext=(-20,20), \n",
    "             textcoords='offset points', \n",
    "             arrowprops={'arrowstyle': '->', 'connectionstyle':'arc3,rad=0'})"
   ]
  },
  {
   "cell_type": "code",
   "execution_count": null,
   "metadata": {
    "collapsed": false
   },
   "outputs": [],
   "source": [
    "for pos in bb2.Pos.unique():\n",
    "    bb3 = bb2[ bb2.Pos == pos ]\n",
    "    plt.scatter( bb3['3PA'], bb3['3P.1'], c = colors[pos],label=pos,s=50,alpha=.5)\n",
    "    plt.xlabel('3 Point Attempted'), plt.ylabel('3 Point %')\n",
    "\n",
    "f = plt.legend(bbox_to_anchor=(0, 1), bbox_transform=plt.gcf().transFigure)\n",
    "\n",
    "for i in range(len(labels)):\n",
    "    plt.annotate(labels.iloc[i], \n",
    "             xy = (x.iloc[i],y.iloc[i]), \n",
    "             xytext=(-20,20), \n",
    "             textcoords='offset points', \n",
    "             arrowprops={'arrowstyle': '->', 'connectionstyle':'arc3,rad=0'})"
   ]
  },
  {
   "cell_type": "markdown",
   "metadata": {},
   "source": [
    "# Exercise: There's so much more!\n",
    "\n",
    "MatPlotLib PyPlot alone has many different types of Plots that you can show.\n",
    "\n",
    "[MatPlotLib Gallery of plots](http://matplotlib.org/gallery.html)\n",
    "\n",
    "\n",
    "Create a single new chart/plot/scatter/barplot/boxplot/etc. of interest using the dataset. This can be through the Pandas groupby functions or a PyPlot. For more help on Pandas groupby, see lab 02 on Pandas.\n",
    "\n",
    "**Ideas:**\n",
    "* You could compare offense to defense according to some metric (i.e. ORB / DRB). Is this different across positions?\n",
    "* Do certain position types have more total rebounds?\n",
    "* Common intuition is that centers have worse shooting percentages than shooting guards. Is this true?\n",
    "\n",
    "\n",
    "At the end of the exercise, you will have a chance to show your class your plot. Of course, if you're a stats head and have lots of ideas, please share them with the class!\n"
   ]
  },
  {
   "cell_type": "code",
   "execution_count": null,
   "metadata": {
    "collapsed": true
   },
   "outputs": [],
   "source": [
    "#Your code here\n",
    "\n",
    "\n"
   ]
  },
  {
   "cell_type": "markdown",
   "metadata": {},
   "source": [
    "# KNN on the NBA dataset\n",
    "\n",
    "We've made some interesting observations so far. For instance, \n",
    "\n",
    "* There's a lot more variability in performance in Centers than there is for SG or SF or PG. This implies that if we were a general manager, we might want to pay more to get a good center, than we would to get a good SG or SF. \n",
    "* We've also seen that generally the most efficient 3 point shooters are, as expected, shooting guards (The exception being Steph Curry, who was essentially born on a basketball court.) \n",
    "* We've ALSO seen that we cannot necessarily always believe the stats, ala Demarcus Cousins who has a low ATT value, but is quite good for a center.\n",
    "\n",
    "Now that we've gone through this data, let's try to use the model we've just learned, K Nearest Neighbors.\n",
    "\n",
    "We will try to predict a player's **Position** based on attributes such as FG, FGA, 3P, 3PA, FT, FTA, ORB, DRB, AST, STL, BLK, TOV, PTS, and our newly created items: ATT (assist to turnover) and ECL (Eddy Curry Line). "
   ]
  },
  {
   "cell_type": "code",
   "execution_count": null,
   "metadata": {
    "collapsed": false
   },
   "outputs": [],
   "source": [
    "bb.head()\n"
   ]
  },
  {
   "cell_type": "code",
   "execution_count": null,
   "metadata": {
    "collapsed": false
   },
   "outputs": [],
   "source": [
    "# First, lets grab only the relevant data columns\n",
    "bb_knn = bb[ ['Pos','FG','FGA','3P','3PA','FT','FTA','ORB','DRB','AST','STL','BLK','TOV','PTS']]\n",
    "bb_knn.head()"
   ]
  },
  {
   "cell_type": "code",
   "execution_count": null,
   "metadata": {
    "collapsed": false
   },
   "outputs": [],
   "source": [
    "# Define the X, and y\n",
    "X = bb_knn.iloc[:,1:]\n",
    "y = bb_knn.iloc[:,0]"
   ]
  },
  {
   "cell_type": "code",
   "execution_count": 351,
   "metadata": {
    "collapsed": true
   },
   "outputs": [],
   "source": [
    "# Import the neighbors module from sklearn\n",
    "from sklearn import neighbors\n",
    "\n",
    "# In addition, import the train_test_split module to split up our data\n",
    "from sklearn.cross_validation import train_test_split\n",
    "X_train, X_test, y_train, y_test = train_test_split(X, y, train_size=.8)  # Use 80% of the data for training"
   ]
  },
  {
   "cell_type": "code",
   "execution_count": 370,
   "metadata": {
    "collapsed": false
   },
   "outputs": [],
   "source": [
    "# Create our model based on 5 neighbors\n",
    "model = neighbors.KNeighborsClassifier(n_neighbors=5)  # init kNN, with k=5"
   ]
  },
  {
   "cell_type": "code",
   "execution_count": 371,
   "metadata": {
    "collapsed": false
   },
   "outputs": [
    {
     "data": {
      "text/plain": [
       "KNeighborsClassifier(algorithm='auto', leaf_size=30, metric='minkowski',\n",
       "           metric_params=None, n_neighbors=5, p=2, weights='uniform')"
      ]
     },
     "execution_count": 371,
     "metadata": {},
     "output_type": "execute_result"
    }
   ],
   "source": [
    "# Fit our model using training data\n",
    "model.fit(X_train, y_train)"
   ]
  },
  {
   "cell_type": "code",
   "execution_count": 372,
   "metadata": {
    "collapsed": false
   },
   "outputs": [
    {
     "data": {
      "text/plain": [
       "0.67441860465116277"
      ]
     },
     "execution_count": 372,
     "metadata": {},
     "output_type": "execute_result"
    }
   ],
   "source": [
    "# Test/Score the model on training data\n",
    "model.score( X_train, y_train )"
   ]
  },
  {
   "cell_type": "code",
   "execution_count": 373,
   "metadata": {
    "collapsed": false
   },
   "outputs": [
    {
     "data": {
      "text/plain": [
       "0.49484536082474229"
      ]
     },
     "execution_count": 373,
     "metadata": {},
     "output_type": "execute_result"
    }
   ],
   "source": [
    "# Test/Score the model on testing data\n",
    "model.score( X_test, y_test )"
   ]
  },
  {
   "cell_type": "markdown",
   "metadata": {},
   "source": [
    "Let's see what a 5 fold CV score mean looks like"
   ]
  },
  {
   "cell_type": "code",
   "execution_count": 374,
   "metadata": {
    "collapsed": false
   },
   "outputs": [
    {
     "data": {
      "text/plain": [
       "0.4836853546315022"
      ]
     },
     "execution_count": 374,
     "metadata": {},
     "output_type": "execute_result"
    }
   ],
   "source": [
    "from sklearn.cross_validation import cross_val_score\n",
    "cv_scores = cross_val_score(model, X, y, cv=5)  # use 5 different test sets\n",
    "cv_scores.mean()"
   ]
  },
  {
   "cell_type": "markdown",
   "metadata": {},
   "source": [
    "## Exercise:\n",
    "\n",
    "**Build a K Nearest neighbors model, but try using 10 neighbors. How does this compare?**"
   ]
  },
  {
   "cell_type": "code",
   "execution_count": 383,
   "metadata": {
    "collapsed": false
   },
   "outputs": [
    {
     "data": {
      "text/plain": [
       "[<matplotlib.lines.Line2D at 0x10df40e90>]"
      ]
     },
     "execution_count": 383,
     "metadata": {},
     "output_type": "execute_result"
    },
    {
     "data": {
      "image/png": "[encoded data removed]",
      "text/plain": [
       "<matplotlib.figure.Figure at 0x1120aa990>"
      ]
     },
     "metadata": {},
     "output_type": "display_data"
    }
   ],
   "source": [
    "# Generate a neighbors.KNeighborsClassifier object using n_neighbors = 10\n",
    "\n",
    "# Split the data into train and test sets, using 80% of the data for training, 20% of the data for testing\n",
    "\n",
    "# Fit our model using training data\n",
    "\n",
    "# Test/Score the model on training data\n",
    "\n",
    "# Test/Score the model on testing data\n",
    "\n",
    "# Generate \n",
    "cvArray = []\n",
    "for k in range(1,50):\n",
    "    model = neighbors.KNeighborsClassifier(n_neighbors=k)  # init KNN with k neighbors\n",
    "    cv_scores = cross_val_score(model, X, y, cv=10)  # use 5 different test sets\n",
    "    cvArray.append(cv_scores.mean())\n",
    "\n",
    "plt.plot(cvArray)"
   ]
  },
  {
   "cell_type": "markdown",
   "metadata": {},
   "source": [
    "Hmm, scores seem quite low. What can we do to improve? Let's take a look at what the histograms of our features look like"
   ]
  },
  {
   "cell_type": "code",
   "execution_count": 375,
   "metadata": {
    "collapsed": false
   },
   "outputs": [
    {
     "data": {
      "image/png": "[encoded data removed]",
      "text/plain": [
       "<matplotlib.figure.Figure at 0x10dfb1150>"
      ]
     },
     "metadata": {},
     "output_type": "display_data"
    }
   ],
   "source": [
    "plt.figure(figsize=(20,20))\n",
    "for idx, col in enumerate(X.columns):\n",
    "    plt.subplot(2,7,idx+1)\n",
    "    plt.hist( X[col])\n",
    "    plt.xlabel(col)"
   ]
  },
  {
   "cell_type": "markdown",
   "metadata": {},
   "source": [
    "Aha! These features look log linear (Or can sqrt). "
   ]
  },
  {
   "cell_type": "code",
   "execution_count": 376,
   "metadata": {
    "collapsed": false
   },
   "outputs": [],
   "source": [
    "X[ X == 0 ] = 1"
   ]
  },
  {
   "cell_type": "code",
   "execution_count": 377,
   "metadata": {
    "collapsed": false
   },
   "outputs": [
    {
     "data": {
      "text/html": [
       "<div>\n",
       "<table border=\"1\" class=\"dataframe\">\n",
       "  <thead>\n",
       "    <tr style=\"text-align: right;\">\n",
       "      <th></th>\n",
       "      <th>FG</th>\n",
       "      <th>FGA</th>\n",
       "      <th>3P</th>\n",
       "      <th>3PA</th>\n",
       "      <th>FT</th>\n",
       "      <th>FTA</th>\n",
       "      <th>ORB</th>\n",
       "      <th>DRB</th>\n",
       "      <th>AST</th>\n",
       "      <th>STL</th>\n",
       "      <th>BLK</th>\n",
       "      <th>TOV</th>\n",
       "      <th>PTS</th>\n",
       "    </tr>\n",
       "  </thead>\n",
       "  <tbody>\n",
       "    <tr>\n",
       "      <th>487</th>\n",
       "      <td>51</td>\n",
       "      <td>137</td>\n",
       "      <td>15</td>\n",
       "      <td>57</td>\n",
       "      <td>16</td>\n",
       "      <td>24</td>\n",
       "      <td>6</td>\n",
       "      <td>26</td>\n",
       "      <td>46</td>\n",
       "      <td>7</td>\n",
       "      <td>1</td>\n",
       "      <td>14</td>\n",
       "      <td>133</td>\n",
       "    </tr>\n",
       "    <tr>\n",
       "      <th>77</th>\n",
       "      <td>344</td>\n",
       "      <td>817</td>\n",
       "      <td>121</td>\n",
       "      <td>313</td>\n",
       "      <td>145</td>\n",
       "      <td>174</td>\n",
       "      <td>32</td>\n",
       "      <td>134</td>\n",
       "      <td>261</td>\n",
       "      <td>54</td>\n",
       "      <td>15</td>\n",
       "      <td>157</td>\n",
       "      <td>954</td>\n",
       "    </tr>\n",
       "    <tr>\n",
       "      <th>228</th>\n",
       "      <td>93</td>\n",
       "      <td>208</td>\n",
       "      <td>13</td>\n",
       "      <td>48</td>\n",
       "      <td>44</td>\n",
       "      <td>61</td>\n",
       "      <td>46</td>\n",
       "      <td>123</td>\n",
       "      <td>33</td>\n",
       "      <td>21</td>\n",
       "      <td>22</td>\n",
       "      <td>38</td>\n",
       "      <td>243</td>\n",
       "    </tr>\n",
       "    <tr>\n",
       "      <th>466</th>\n",
       "      <td>91</td>\n",
       "      <td>220</td>\n",
       "      <td>1</td>\n",
       "      <td>9</td>\n",
       "      <td>30</td>\n",
       "      <td>46</td>\n",
       "      <td>48</td>\n",
       "      <td>114</td>\n",
       "      <td>30</td>\n",
       "      <td>19</td>\n",
       "      <td>9</td>\n",
       "      <td>44</td>\n",
       "      <td>213</td>\n",
       "    </tr>\n",
       "    <tr>\n",
       "      <th>285</th>\n",
       "      <td>519</td>\n",
       "      <td>965</td>\n",
       "      <td>11</td>\n",
       "      <td>36</td>\n",
       "      <td>107</td>\n",
       "      <td>141</td>\n",
       "      <td>131</td>\n",
       "      <td>413</td>\n",
       "      <td>244</td>\n",
       "      <td>68</td>\n",
       "      <td>98</td>\n",
       "      <td>100</td>\n",
       "      <td>1156</td>\n",
       "    </tr>\n",
       "  </tbody>\n",
       "</table>\n",
       "</div>"
      ],
      "text/plain": [
       "      FG  FGA   3P  3PA   FT  FTA  ORB  DRB  AST  STL  BLK  TOV   PTS\n",
       "487   51  137   15   57   16   24    6   26   46    7    1   14   133\n",
       "77   344  817  121  313  145  174   32  134  261   54   15  157   954\n",
       "228   93  208   13   48   44   61   46  123   33   21   22   38   243\n",
       "466   91  220    1    9   30   46   48  114   30   19    9   44   213\n",
       "285  519  965   11   36  107  141  131  413  244   68   98  100  1156"
      ]
     },
     "execution_count": 377,
     "metadata": {},
     "output_type": "execute_result"
    }
   ],
   "source": [
    "X.head()"
   ]
  },
  {
   "cell_type": "code",
   "execution_count": 378,
   "metadata": {
    "collapsed": false,
    "scrolled": true
   },
   "outputs": [
    {
     "data": {
      "image/png": "[encoded data removed]",
      "text/plain": [
       "<matplotlib.figure.Figure at 0x10eb74a50>"
      ]
     },
     "metadata": {},
     "output_type": "display_data"
    }
   ],
   "source": [
    "plt.figure(figsize=(20,20))\n",
    "for idx, col in enumerate(X.columns):\n",
    "    plt.subplot(2,7,idx+1)\n",
    "    plt.hist( X[col].apply(lambda x: np.log(x) ) )\n",
    "    plt.xlabel(col)"
   ]
  },
  {
   "cell_type": "markdown",
   "metadata": {},
   "source": [
    "Once we've transformed these points, looks much better"
   ]
  },
  {
   "cell_type": "code",
   "execution_count": 379,
   "metadata": {
    "collapsed": false
   },
   "outputs": [],
   "source": [
    "X2 = X.copy()\n",
    "X2 = X2.apply(lambda x: np.log(x), axis=1)\n",
    "X2 = X2.apply(lambda x: (x - np.mean(x))/np.std(x) )"
   ]
  },
  {
   "cell_type": "code",
   "execution_count": 381,
   "metadata": {
    "collapsed": false
   },
   "outputs": [
    {
     "name": "stdout",
     "output_type": "stream",
     "text": [
      "0.674418604651\n",
      "0.546391752577\n"
     ]
    },
    {
     "data": {
      "text/plain": [
       "0.54562780545553191"
      ]
     },
     "execution_count": 381,
     "metadata": {},
     "output_type": "execute_result"
    }
   ],
   "source": [
    "X_train, X_test, y_train, y_test = train_test_split(X2, y, train_size=.8)  # Use 80% of the data for training\n",
    "# Create our model based on 5 neighbors\n",
    "model = neighbors.KNeighborsClassifier(n_neighbors=5)  # init kNN, with k=2\n",
    "# Fit our model using training data\n",
    "model.fit(X_train, y_train)\n",
    "# Test/Score the model on training data\n",
    "print model.score( X_train, y_train )\n",
    "# Test/Score the model on testing data\n",
    "print model.score( X_test, y_test )\n",
    "\n",
    "from sklearn.cross_validation import cross_val_score\n",
    "cv_scores = cross_val_score(model, X2, y, cv=5)  # use 10 different test sets\n",
    "cv_scores.mean()"
   ]
  },
  {
   "cell_type": "code",
   "execution_count": 384,
   "metadata": {
    "collapsed": false
   },
   "outputs": [
    {
     "data": {
      "text/plain": [
       "[<matplotlib.lines.Line2D at 0x10d939610>]"
      ]
     },
     "execution_count": 384,
     "metadata": {},
     "output_type": "execute_result"
    },
    {
     "data": {
      "image/png": "[encoded data removed]",
      "text/plain": [
       "<matplotlib.figure.Figure at 0x10e6e3b10>"
      ]
     },
     "metadata": {},
     "output_type": "display_data"
    }
   ],
   "source": [
    "cvArray = []\n",
    "for k in range(1,50):\n",
    "    model = neighbors.KNeighborsClassifier(n_neighbors=k)  # init KNN with k neighbors\n",
    "    cv_scores = cross_val_score(model, X2, y, cv=10)  # use 5 different test sets\n",
    "    cvArray.append(cv_scores.mean())\n",
    "\n",
    "plt.plot(cvArray)"
   ]
  },
  {
   "cell_type": "code",
   "execution_count": null,
   "metadata": {
    "collapsed": true
   },
   "outputs": [],
   "source": []
  }
 ],
 "metadata": {
  "kernelspec": {
   "display_name": "Python 2",
   "language": "python",
   "name": "python2"
  },
  "language_info": {
   "codemirror_mode": {
    "name": "ipython",
    "version": 2
   },
   "file_extension": ".py",
   "mimetype": "text/x-python",
   "name": "python",
   "nbconvert_exporter": "python",
   "pygments_lexer": "ipython2",
   "version": "2.7.10"
  }
 },
 "nbformat": 4,
 "nbformat_minor": 0
}
