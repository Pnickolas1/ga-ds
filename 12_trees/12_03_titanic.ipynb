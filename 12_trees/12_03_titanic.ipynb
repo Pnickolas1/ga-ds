{
 "cells": [
  {
   "cell_type": "markdown",
   "metadata": {},
   "source": [
    "# Titanic Survival Analysis\n",
    "\n",
    "<img src=\"https://upload.wikimedia.org/wikipedia/commons/d/db/Titanic-Cobh-Harbour-1912.JPG\"/ width=500/>\n",
    "\n",
    "We want to examine survival rates on the RMS Titanic, and more importantly, who was it that survived? Given that we want to know the **features** that contributed to one's survival on that fateful shipwreck, **decision trees** seem quite suited to this purpose.\n",
    "\n",
    "Let's take a look at some of the variables in the dataset.\n",
    "\n",
    "------\n",
    "\n",
    "**VARIABLE DESCRIPTIONS:**\n",
    "* survival   -     Survival\n",
    "                (0 = No; 1 = Yes)\n",
    "* pclass     -     Passenger Class\n",
    "                (1 = 1st; 2 = 2nd; 3 = 3rd)\n",
    "* name       -     Name\n",
    "* sex        -     Sex\n",
    "* age        -     Age\n",
    "* sibsp      -     Number of Siblings/Spouses Aboard\n",
    "* parch      -     Number of Parents/Children Aboard\n",
    "* ticket     -     Ticket Number\n",
    "* fare       -     Passenger Fare\n",
    "* cabin      -     Cabin\n",
    "* embarked   -     Port of Embarkation\n",
    "                (C = Cherbourg; Q = Queenstown; S = Southampton)\n",
    "\n",
    "**SPECIAL NOTES:**\n",
    "Pclass is a proxy for socio-economic status (SES)\n",
    " 1st ~ Upper; 2nd ~ Middle; 3rd ~ Lower\n",
    "\n",
    "Age is in Years; Fractional if Age less than One (1)\n",
    " If the Age is Estimated, it is in the form xx.5\n",
    "\n",
    "With respect to the family relation variables (i.e. sibsp and parch)\n",
    "some relations were ignored.  The following are the definitions used\n",
    "for sibsp and parch.\n",
    "\n",
    "* Sibling:  Brother, Sister, Stepbrother, or Stepsister of Passenger Aboard Titanic\n",
    "* Spouse:   Husband or Wife of Passenger Aboard Titanic (Mistresses and Fiances Ignored)\n",
    "* Parent:   Mother or Father of Passenger Aboard Titanic\n",
    "* Child:    Son, Daughter, Stepson, or Stepdaughter of Passenger Aboard Titanic\n",
    "\n",
    "Other family relatives excluded from this study include cousins,\n",
    "nephews/nieces, aunts/uncles, and in-laws.  Some children travelled\n",
    "only with a nanny, therefore parch=0 for them.  As well, some\n",
    "travelled with very close friends or neighbors in a village, however,\n",
    "the definitions do not support such relations."
   ]
  },
  {
   "cell_type": "code",
   "execution_count": null,
   "metadata": {
    "collapsed": false
   },
   "outputs": [],
   "source": [
    "# Standard imports\n",
    "import pandas as pd\n",
    "import numpy as np\n",
    "from sklearn import tree\n",
    "import matplotlib.pyplot as plt\n",
    "\n",
    "%matplotlib inline\n",
    "\n",
    "# Imports to allow us to write to io and view images in ipython\n",
    "from IPython.display import Image\n",
    "from sklearn.externals.six import StringIO\n",
    "import pydot"
   ]
  },
  {
   "cell_type": "code",
   "execution_count": null,
   "metadata": {
    "collapsed": true
   },
   "outputs": [],
   "source": [
    "path_to_repo = \"/Users/brianchung/Desktop/ga-ds/\"\n",
    "data = pd.read_csv(path_to_repo + \"/12_trees/titanic.csv\")"
   ]
  },
  {
   "cell_type": "code",
   "execution_count": null,
   "metadata": {
    "collapsed": false
   },
   "outputs": [],
   "source": [
    "data.head()"
   ]
  },
  {
   "cell_type": "markdown",
   "metadata": {},
   "source": [
    "--------\n",
    "If you watch \"disaster\" based movies, one thing they always say is \"Take the women and children first!\" Let's see how true that is. \n",
    "\n",
    "Does being a woman and/or child help in having survived the titanic crash?"
   ]
  },
  {
   "cell_type": "code",
   "execution_count": null,
   "metadata": {
    "collapsed": false
   },
   "outputs": [],
   "source": [
    "X = pd.DataFrame({'Age': data.Age.replace([np.NaN],data.Age.median(method='drop')),\n",
    "                  'Sex': data.Sex.apply(lambda x: 1 if x==\"male\" else 0)})\n",
    "y = data.Survived"
   ]
  },
  {
   "cell_type": "code",
   "execution_count": null,
   "metadata": {
    "collapsed": false
   },
   "outputs": [],
   "source": [
    "X = X[ ~y.isnull() ]\n",
    "y = y[ ~y.isnull() ]"
   ]
  },
  {
   "cell_type": "code",
   "execution_count": null,
   "metadata": {
    "collapsed": false
   },
   "outputs": [],
   "source": [
    "model = tree.DecisionTreeClassifier(max_depth=3)\n",
    "model.fit(X,y)\n",
    "print model.score(X,y), model.classes_\n",
    "print model.feature_importances_\n",
    "\n",
    "# Write a decision tree to a stringIO buffer using tree.export_graphviz\n",
    "dot_data = StringIO()\n",
    "tree.export_graphviz(model,out_file=dot_data,feature_names=[\"Age\",\"Sex\"])\n",
    "\n",
    "# From the stringio, create a graph and output to screen\n",
    "graph = pydot.graph_from_dot_data(dot_data.getvalue())\n",
    "Image(graph.create_png())\n",
    "\n"
   ]
  },
  {
   "cell_type": "code",
   "execution_count": null,
   "metadata": {
    "collapsed": false
   },
   "outputs": [],
   "source": [
    "from sklearn.cross_validation import cross_val_score\n",
    "from sklearn.cross_validation import KFold\n",
    "\n",
    "np.mean(cross_val_score( tree.DecisionTreeClassifier(),X,y,scoring=\"roc_auc\",cv=KFold(len(X),n_folds=10,shuffle=True)))"
   ]
  },
  {
   "cell_type": "markdown",
   "metadata": {},
   "source": [
    "Seems it was not a good time to have that Y chromosome."
   ]
  },
  {
   "cell_type": "markdown",
   "metadata": {},
   "source": [
    "------\n",
    "# Exercise\n",
    "\n",
    "Try improving upon the decision tree score for roc_auc. Recall that the roc_auc (Receiver Operating Characteristic Area under the curve) can be used as a metric in binary classification problems.\n",
    "\n",
    "One feature that might help improve the score is the \"Pclass\" metric. Perhaps the rich were shuttled off the boat first? Report your scores using Decision trees, and what factors were most important in determining survival."
   ]
  },
  {
   "cell_type": "code",
   "execution_count": null,
   "metadata": {
    "collapsed": false
   },
   "outputs": [],
   "source": []
  },
  {
   "cell_type": "code",
   "execution_count": null,
   "metadata": {
    "collapsed": true
   },
   "outputs": [],
   "source": []
  },
  {
   "cell_type": "code",
   "execution_count": null,
   "metadata": {
    "collapsed": true
   },
   "outputs": [],
   "source": []
  }
 ],
 "metadata": {
  "kernelspec": {
   "display_name": "Python 2",
   "language": "python",
   "name": "python2"
  },
  "language_info": {
   "codemirror_mode": {
    "name": "ipython",
    "version": 2
   },
   "file_extension": ".py",
   "mimetype": "text/x-python",
   "name": "python",
   "nbconvert_exporter": "python",
   "pygments_lexer": "ipython2",
   "version": "2.7.11"
  }
 },
 "nbformat": 4,
 "nbformat_minor": 0
}
